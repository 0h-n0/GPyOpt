{
 "metadata": {
  "name": "",
  "signature": "sha256:89089ffb7a0c9492171b14ad069bcbfca99f1e3faebb4c91c443cae04e70f480"
 },
 "nbformat": 3,
 "nbformat_minor": 0,
 "worksheets": [
  {
   "cells": [
    {
     "cell_type": "markdown",
     "metadata": {},
     "source": [
      "# GPyOpt aquisition functions\n",
      "\n",
      "### Written by Javier Gonzalez (j.h.gonzalez@sheffield.ac.uk), University of Sheffield."
     ]
    },
    {
     "cell_type": "code",
     "collapsed": false,
     "input": [],
     "language": "python",
     "metadata": {},
     "outputs": []
    }
   ],
   "metadata": {}
  }
 ]
}