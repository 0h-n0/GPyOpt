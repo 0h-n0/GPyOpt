{
 "metadata": {
  "name": "",
  "signature": "sha256:37ade3aca786a7c2ba2aed5eb4a09bd72be538f5b5c11e87fda947964000cdcc"
 },
 "nbformat": 3,
 "nbformat_minor": 0,
 "worksheets": [
  {
   "cells": [
    {
     "cell_type": "markdown",
     "metadata": {},
     "source": [
      "# GPyOpt: collection of notebooks\n",
      "\n",
      "=====================================================================================================\n",
      "1. **Purpose of these notebooks**\n",
      "\n",
      "2. **First Steps with GPyOpt**\n",
      "\n",
      "3. **Using GPy functionalities**\n",
      "\n",
      "4. **Batch Bayesian optimization with GPyOpt**\n",
      "\n",
      "=====================================================================================================\n"
     ]
    },
    {
     "cell_type": "markdown",
     "metadata": {},
     "source": [
      "## 1. Purpose of these notebooks\n",
      "\n",
      "The pupose of this collection of notebooks is to provide a guide to use GPyOpt, a python package for Bayesian optimization developed by the machine learning group of the university of Sheffield. The framework is BSD licensed and we welcome collaborators to develop new functionality.\n",
      "\n",
      "GPyOpt is based on GPy, a library for Gaussian process modelling in Python. [Here](http://nbviewer.ipython.org/github/SheffieldML/notebook/blob/master/GPy/index.ipynb) you can also find some noteboos about GPy functionalities.\n",
      "\n",
      "If you have any question or suggestions about the notebooks, please contact (Javier Gonzalez) j.h.gonzalez@sheffield.ac.uk\n",
      "\n",
      "\n"
     ]
    },
    {
     "cell_type": "markdown",
     "metadata": {},
     "source": [
      "## 2. First steps with GPyOpt\n",
      "\n",
      "* [Use GPyOpt in less than 3 mins.](./GPyOpt_quick_guide.ipynb): Install, load and use GPyOpt to solve a black-box global optimization problem in less than 3 minutes! \n",
      "\n",
      "\n",
      "* [Introduction to GPyOpt and Bayesian Optimization](./GPyOpt_reference_manual.ipynb): This tutorial contains an introducction to GPyOpt and Bayesiean Optimization with several examples and applications. This notebook by no means contains all the GPyOpt functionalities, but it is gives a general overview of the package.\n",
      "\n",
      "\n",
      "* [Acquisition functions](./GPyOpt_acquisition_functions.ipynb): Learn how to use and optimize the set of acquisition fucntions implemented in GPyOpt.\n",
      "\n",
      "\n",
      "* [Physical experiments](./GPyOpt_acquisition_functions.ipynb): Use GPyOpt to optimize your physical experiments. Examples inside!"
     ]
    },
    {
     "cell_type": "markdown",
     "metadata": {},
     "source": [
      "## 3. Importing fuctionalities from GPy\n",
      "* [Using different kernels](./GPyOpt_kernels.ipynb):\n",
      "\n",
      "\n",
      "* [GPyOpt for large-scale problems](./GPyOpt_large_scale.ipynb):\n"
     ]
    },
    {
     "cell_type": "markdown",
     "metadata": {},
     "source": [
      "## 4. Batch Bayesian Optimization with GPyOpt\n",
      "* [GPyOpt for batch Bayesian optimization](./GPyOpt_batch_bo.ipynb)\n"
     ]
    }
   ],
   "metadata": {}
  }
 ]
}