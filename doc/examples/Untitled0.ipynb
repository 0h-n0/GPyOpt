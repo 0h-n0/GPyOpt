{
 "metadata": {
  "name": "Untitled0"
 },
 "nbformat": 3,
 "nbformat_minor": 0,
 "worksheets": [
  {
   "cells": [
    {
     "cell_type": "markdown",
     "metadata": {},
     "source": [
      "Examples of use of the class BayesianOptimization\n",
      "        - forrester (1d)\n",
      "        - branin (2d))\n",
      "        - gSobol (arbitrary dimension)"
     ]
    },
    {
     "cell_type": "code",
     "collapsed": false,
     "input": [
      "%pylab inline  \n",
      "# load packages and set seed\n",
      "import GPy\n",
      "import GPyOpt\n",
      "from numpy.random import seed\n",
      "seed(123)\n"
     ],
     "language": "python",
     "metadata": {},
     "outputs": [
      {
       "output_type": "stream",
       "stream": "stdout",
       "text": [
        "\n",
        "Welcome to pylab, a matplotlib-based Python environment [backend: module://IPython.zmq.pylab.backend_inline].\n",
        "For more information, type 'help(pylab)'.\n"
       ]
      }
     ],
     "prompt_number": 1
    },
    {
     "cell_type": "code",
     "collapsed": false,
     "input": [
      "# create the object function\n",
      "f_true = GPyOpt.fmodels.experiments1d.forrester()\n",
      "f_sim = GPyOpt.fmodels.experiments1d.forrester(sd= .5)\n",
      "f_true.plot()"
     ],
     "language": "python",
     "metadata": {},
     "outputs": [
      {
       "output_type": "display_data",
       "png": "[encoded data removed]"
      }
     ],
     "prompt_number": 2
    },
    {
     "cell_type": "code",
     "collapsed": false,
     "input": [
      "# box constrains of the function and horizont \n",
      "bounds = [(0,1)]\n",
      "H = 1"
     ],
     "language": "python",
     "metadata": {},
     "outputs": [],
     "prompt_number": 3
    },
    {
     "cell_type": "code",
     "collapsed": false,
     "input": [
      "# starts the optimization \n",
      "myBopt = GPyOpt.methods.BayesianOptimization(bounds,acquisition = 'MPI',acquisition_par = 1.5)\n",
      "myBopt.start_optimization(f_sim.f,H=9)\n",
      "myBopt.plot_acquisition()\n"
     ],
     "language": "python",
     "metadata": {},
     "outputs": [
      {
       "output_type": "stream",
       "stream": "stdout",
       "text": [
        "Optimization restart 1/5, f = 3.35461312836\n",
        "Optimization restart 2/5, f = 3.35461312834\n",
        "Optimization restart 3/5, f = 3.35461312835\n",
        "Optimization restart 4/5, f = 3.35461312834"
       ]
      },
      {
       "output_type": "stream",
       "stream": "stdout",
       "text": [
        "\n",
        "Optimization restart 5/5, f = 3.35461312977\n",
        "Optimization restart 1/5, f = 10.8807827477"
       ]
      },
      {
       "output_type": "stream",
       "stream": "stdout",
       "text": [
        "\n",
        "Optimization restart 2/5, f = 10.8807828882\n",
        "Optimization restart 3/5, f = 10.8807827442"
       ]
      },
      {
       "output_type": "stream",
       "stream": "stdout",
       "text": [
        "\n",
        "Optimization restart 4/5, f = 10.8092979765"
       ]
      },
      {
       "output_type": "stream",
       "stream": "stdout",
       "text": [
        "\n",
        "Optimization restart 5/5, f = 10.8807827642\n",
        "Optimization restart 1/5, f = 11.135175953"
       ]
      },
      {
       "output_type": "stream",
       "stream": "stdout",
       "text": [
        "\n",
        "Optimization restart 2/5, f = 11.1351024964"
       ]
      },
      {
       "output_type": "stream",
       "stream": "stdout",
       "text": [
        "\n",
        "Optimization restart 3/5, f = 11.1352208952\n",
        "Optimization restart 4/5, f = 11.1351024964"
       ]
      },
      {
       "output_type": "stream",
       "stream": "stdout",
       "text": [
        "\n",
        "Optimization restart 5/5, f = 11.1352190719"
       ]
      },
      {
       "output_type": "stream",
       "stream": "stdout",
       "text": [
        "\n",
        "Optimization restart 1/5, f = 11.8982921644"
       ]
      },
      {
       "output_type": "stream",
       "stream": "stdout",
       "text": [
        "\n",
        "Optimization restart 2/5, f = 11.5824289647"
       ]
      },
      {
       "output_type": "stream",
       "stream": "stdout",
       "text": [
        "\n",
        "Optimization restart 3/5, f = 11.5824289944"
       ]
      },
      {
       "output_type": "stream",
       "stream": "stdout",
       "text": [
        "\n",
        "Optimization restart 4/5, f = 13.1641197439\n",
        "Optimization restart 5/5, f = 11.5825788514"
       ]
      },
      {
       "output_type": "stream",
       "stream": "stdout",
       "text": [
        "\n",
        "Optimization restart 1/5, f = 12.0078127939"
       ]
      },
      {
       "output_type": "stream",
       "stream": "stdout",
       "text": [
        "\n",
        "Optimization restart 2/5, f = 12.0078127939"
       ]
      },
      {
       "output_type": "stream",
       "stream": "stdout",
       "text": [
        "\n",
        "Optimization restart 3/5, f = 12.0078127939"
       ]
      },
      {
       "output_type": "stream",
       "stream": "stdout",
       "text": [
        "\n",
        "Optimization restart 4/5, f = 12.007812794"
       ]
      },
      {
       "output_type": "stream",
       "stream": "stdout",
       "text": [
        "\n",
        "Optimization restart 5/5, f = 12.0078127954"
       ]
      },
      {
       "output_type": "stream",
       "stream": "stdout",
       "text": [
        "\n",
        "Optimization restart 1/5, f = 11.9043003059"
       ]
      },
      {
       "output_type": "stream",
       "stream": "stdout",
       "text": [
        "\n",
        "Optimization restart 2/5, f = 11.9043003059"
       ]
      },
      {
       "output_type": "stream",
       "stream": "stdout",
       "text": [
        "\n",
        "Optimization restart 3/5, f = 11.904300306"
       ]
      },
      {
       "output_type": "stream",
       "stream": "stdout",
       "text": [
        "\n",
        "Optimization restart 4/5, f = 11.9043003058"
       ]
      },
      {
       "output_type": "stream",
       "stream": "stdout",
       "text": [
        "\n",
        "Optimization restart 5/5, f = 11.9043003059"
       ]
      },
      {
       "output_type": "stream",
       "stream": "stdout",
       "text": [
        "\n",
        "Optimization restart 1/5, f = 11.2619496339"
       ]
      },
      {
       "output_type": "stream",
       "stream": "stdout",
       "text": [
        "\n",
        "Optimization restart 2/5, f = 11.4004950129\n",
        "Optimization restart 3/5, f = 11.2619496339"
       ]
      },
      {
       "output_type": "stream",
       "stream": "stdout",
       "text": [
        "\n",
        "Optimization restart 4/5, f = 15.6385108148"
       ]
      },
      {
       "output_type": "stream",
       "stream": "stdout",
       "text": [
        "\n",
        "Optimization restart 5/5, f = 11.5615904905\n",
        "Optimization restart 1/5, f = 11.1627361362"
       ]
      },
      {
       "output_type": "stream",
       "stream": "stdout",
       "text": [
        "\n",
        "Optimization restart 2/5, f = 12.0013626542\n",
        "Optimization restart 3/5, f = 11.1627361378"
       ]
      },
      {
       "output_type": "stream",
       "stream": "stdout",
       "text": [
        "\n",
        "Optimization restart 4/5, f = 11.1627361362"
       ]
      },
      {
       "output_type": "stream",
       "stream": "stdout",
       "text": [
        "\n",
        "Optimization restart 5/5, f = 11.1627361362"
       ]
      },
      {
       "output_type": "stream",
       "stream": "stdout",
       "text": [
        "\n",
        "Optimization restart 1/5, f = 18.8307908451"
       ]
      },
      {
       "output_type": "stream",
       "stream": "stdout",
       "text": [
        "\n",
        "Optimization restart 2/5, f = 15.9852470026"
       ]
      },
      {
       "output_type": "stream",
       "stream": "stdout",
       "text": [
        "\n",
        "Optimization restart 3/5, f = 15.9852470026"
       ]
      },
      {
       "output_type": "stream",
       "stream": "stdout",
       "text": [
        "\n",
        "Optimization restart 4/5, f = 15.9852470026"
       ]
      },
      {
       "output_type": "stream",
       "stream": "stdout",
       "text": [
        "\n",
        "Optimization restart 5/5, f = 15.9852470026"
       ]
      },
      {
       "output_type": "stream",
       "stream": "stdout",
       "text": [
        "\n",
        "Optimization restart 1/5, f = 19.8346621049"
       ]
      },
      {
       "output_type": "stream",
       "stream": "stdout",
       "text": [
        "\n",
        "Optimization restart 2/5, f = 22.8496863132\n",
        "Optimization restart 3/5, f = 22.8416600902"
       ]
      },
      {
       "output_type": "stream",
       "stream": "stdout",
       "text": [
        "\n",
        "Optimization restart 4/5, f = 19.8346619038"
       ]
      },
      {
       "output_type": "stream",
       "stream": "stdout",
       "text": [
        "\n",
        "Optimization restart 5/5, f = 28.71062948\n"
       ]
      },
      {
       "output_type": "display_data",
       "png": "[encoded data removed]"
      }
     ],
     "prompt_number": 13
    },
    {
     "cell_type": "code",
     "collapsed": false,
     "input": [],
     "language": "python",
     "metadata": {},
     "outputs": []
    }
   ],
   "metadata": {}
  }
 ]
}