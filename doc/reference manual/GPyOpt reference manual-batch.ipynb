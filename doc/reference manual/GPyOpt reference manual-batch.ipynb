{
 "metadata": {
  "name": "",
  "signature": "sha256:0f3b05980e018bdd7331f8d23082ae784baae010478286ae1d4aa19ca47e300f"
 },
 "nbformat": 3,
 "nbformat_minor": 0,
 "worksheets": [
  {
   "cells": [
    {
     "cell_type": "heading",
     "level": 1,
     "metadata": {},
     "source": [
      "GPyOpt: The tool for Bayesian Optimization \n"
     ]
    },
    {
     "cell_type": "heading",
     "level": 4,
     "metadata": {},
     "source": [
      "Edited by Javier Gonzalez (j.h.gonzalez@sheffield.ac.uk), University of Sheffield."
     ]
    },
    {
     "cell_type": "heading",
     "level": 2,
     "metadata": {},
     "source": [
      "Reference Manual index"
     ]
    },
    {
     "cell_type": "markdown",
     "metadata": {},
     "source": [
      "=====================================================================================================\n",
      "1. **What is GPyOpt?**\n",
      "\n",
      "2. **How to install GPyopt?**\n",
      "\n",
      "3. **How to use GPyOpt?**\n",
      "    1. Gaussian Processes\n",
      "    2. Acquisition functions\n",
      "    3. Applications of Bayesian Optimization \n",
      "\n",
      "4. **The Basics of Bayesian Optimization**\n",
      "\n",
      "5. **1D optimization example**\n",
      "\n",
      "6. **2D optimization example**\n",
      "\n",
      "====================================================================================================="
     ]
    },
    {
     "cell_type": "heading",
     "level": 2,
     "metadata": {},
     "source": [
      "1. What is GPyOpt?"
     ]
    },
    {
     "cell_type": "markdown",
     "metadata": {},
     "source": [
      "GPyOpt (http://sheffieldml.github.io/GPy/) is a tool for optimization (minimization) of black-box functions using Gaussian processes. It is based on GPy (http://sheffieldml.github.io/GPy/) and it has been implemented in Python 2.7 (https://www.python.org/download/releases/2.7/) by the group of Machine Learning (at SITraN) of the university of Sheffield (http://ml.dcs.shef.ac.uk/sitran/). \n",
      "\n",
      "These are the main features of GPyOPt:\n",
      "\n",
      "* You can perform Bayesian Optimization with **most common acquisition functions**, such as  Expected improvement (EI), Maximum probability of improvement (MPI) or the Upper confidence bound (GP-UCB).\n",
      "\n",
      "\n",
      "* **Any model available in GPy can used in GPyOpt** as a surrogate of the function to optimize. This includes a wide variety of kernel fuctions (and kernel combinations) and models such as Sparse Gaussian process, usefull to speed up computational costs in large scale scenarios. See GPy  https://gpy.readthedocs.org/en/latest/ for details. \n",
      "\n",
      "\n",
      "* GPyOpt allows you to run **parallel Bayesian optimization**. This is helpful when you want to perform simultaneously several evaluations of the function that you want to optimize.\n",
      "\n",
      "\n",
      "* You can use GPyOpt to **design physical experiments**. If you are, or if you work with, a wetlab person you can use GPyOpt to determine optimal strategies for sequential experimental designs. \n",
      "\n",
      "\n",
      "* GPyOpt contains a repository of **test functions for optimization **. \n",
      "\n",
      "=====================================================================================================\n"
     ]
    },
    {
     "cell_type": "heading",
     "level": 2,
     "metadata": {},
     "source": [
      "2. How to install GPyOPt?"
     ]
    },
    {
     "cell_type": "markdown",
     "metadata": {},
     "source": [
      "The simplest way to install GPyOpt is using pip. Ubuntu users can do:\n",
      "\n",
      "    sudo apt-get install python-pip\n",
      "    pip install gpyopt\n",
      "    \n",
      "====================================================================================================="
     ]
    },
    {
     "cell_type": "heading",
     "level": 2,
     "metadata": {},
     "source": [
      "3. How to use GPyOpt?"
     ]
    },
    {
     "cell_type": "code",
     "collapsed": false,
     "input": [
      "%pylab inline  \n",
      "import GPy\n",
      "import GPyOpt\n",
      "from numpy.random import seed\n",
      "seed(12345)"
     ],
     "language": "python",
     "metadata": {},
     "outputs": [
      {
       "output_type": "stream",
       "stream": "stdout",
       "text": [
        "Populating the interactive namespace from numpy and matplotlib\n"
       ]
      }
     ],
     "prompt_number": 1
    },
    {
     "cell_type": "heading",
     "level": 2,
     "metadata": {},
     "source": [
      "6. Two dimensional example"
     ]
    },
    {
     "cell_type": "markdown",
     "metadata": {},
     "source": [
      "Next, we try a 2-dimensional example. In this case we minimize the use the Six-hump camel function \n",
      "\n",
      "$$f(x_1,x_2) = \\left(4-2.1x_1^2 = \\frac{x_1^4}{3} \\right)x_1^2 + x_1x_2 + (-4 +4x_2^2)x_2^2,$$\n",
      "\n",
      "in $[-3,3]\\times [-2,2]$. This functions has two global minima, at $(0.0898,-0.7126)$ and $(-0.0898,0.7126)$. As in the previous case we create the function, which is already in GPyOpt."
     ]
    },
    {
     "cell_type": "code",
     "collapsed": false,
     "input": [
      "# create the object function\n",
      "f_true = GPyOpt.fmodels.experimentsNd.alpine1(input_dim = 5)\n",
      "f_sim = GPyOpt.fmodels.experimentsNd.alpine2(input_dim = 5, sd = 0.1)\n",
      "#f_true.plot()\n",
      "bounds = f_sim.bounds"
     ],
     "language": "python",
     "metadata": {},
     "outputs": [],
     "prompt_number": 7
    },
    {
     "cell_type": "markdown",
     "metadata": {},
     "source": [
      "We create the GPyOpt object. In this case we use the Lower Confidence bound acquisition function to solve the problem."
     ]
    },
    {
     "cell_type": "code",
     "collapsed": false,
     "input": [
      "# Creates three identical objects that we will later use to compare the optimization strategies \n",
      "myBopt2D = GPyOpt.methods.BayesianOptimization(f_sim.f,\n",
      "                                              model_data_init = 15,  \n",
      "                                              bounds=bounds,\n",
      "                                              acquisition='LCB',   # Lower confidence bound method \n",
      "                                              acquisition_par = 2, # Set parameter psi=2 \n",
      "                                              normalize = True)    # Normalize the acquisition funtction"
     ],
     "language": "python",
     "metadata": {},
     "outputs": [],
     "prompt_number": 8
    },
    {
     "cell_type": "markdown",
     "metadata": {},
     "source": [
      " We run the optimization for 40 iterations and show the evaluation plot and the acquisition function."
     ]
    },
    {
     "cell_type": "code",
     "collapsed": false,
     "input": [
      "# runs the optimization for the three methods\n",
      "max_iter = 10\n",
      "\n",
      "myBopt2D.start_optimization(max_iter,\n",
      "                          batch_method='mp',\n",
      "                          n_inbatch = 5,\n",
      "                          acqu_optimize_method = 'fast_random', # lattice of initial points for local optimizers\n",
      "                          acqu_optimize_restarts = 10,          # partition per dimension \n",
      "                          stop_criteria=-1)                     # stop criteria (distance between consecutive observations) "
     ],
     "language": "python",
     "metadata": {},
     "outputs": [
      {
       "output_type": "stream",
       "stream": "stdout",
       "text": [
        "*Optimization completed:\n",
        "   -Maximum number of iterations reached.\n"
       ]
      },
      {
       "metadata": {},
       "output_type": "pyout",
       "prompt_number": 9,
       "text": [
        "1"
       ]
      }
     ],
     "prompt_number": 9
    },
    {
     "cell_type": "code",
     "collapsed": false,
     "input": [
      "myBopt2D.plot_convergence()"
     ],
     "language": "python",
     "metadata": {},
     "outputs": [
      {
       "metadata": {},
       "output_type": "display_data",
       "png": "[encoded data removed]",
       "text": [
        "<matplotlib.figure.Figure at 0xbb92d8c>"
       ]
      }
     ],
     "prompt_number": 7
    },
    {
     "cell_type": "code",
     "collapsed": false,
     "input": [
      "2.8**2"
     ],
     "language": "python",
     "metadata": {},
     "outputs": [
      {
       "metadata": {},
       "output_type": "pyout",
       "prompt_number": 12,
       "text": [
        "7.839999999999999"
       ]
      }
     ],
     "prompt_number": 12
    },
    {
     "cell_type": "code",
     "collapsed": false,
     "input": [
      "bounds  =[(0,1)]*10"
     ],
     "language": "python",
     "metadata": {},
     "outputs": [],
     "prompt_number": 29
    },
    {
     "cell_type": "code",
     "collapsed": false,
     "input": [
      "bounds[0]"
     ],
     "language": "python",
     "metadata": {},
     "outputs": [
      {
       "metadata": {},
       "output_type": "pyout",
       "prompt_number": 33,
       "text": [
        "(0, 1)"
       ]
      }
     ],
     "prompt_number": 33
    },
    {
     "cell_type": "code",
     "collapsed": false,
     "input": [
      "[(0.30249864)]*10"
     ],
     "language": "python",
     "metadata": {},
     "outputs": [
      {
       "metadata": {},
       "output_type": "pyout",
       "prompt_number": 35,
       "text": [
        "[0.30249864,\n",
        " 0.30249864,\n",
        " 0.30249864,\n",
        " 0.30249864,\n",
        " 0.30249864,\n",
        " 0.30249864,\n",
        " 0.30249864,\n",
        " 0.30249864,\n",
        " 0.30249864,\n",
        " 0.30249864]"
       ]
      }
     ],
     "prompt_number": 35
    },
    {
     "cell_type": "code",
     "collapsed": false,
     "input": [],
     "language": "python",
     "metadata": {},
     "outputs": []
    }
   ],
   "metadata": {}
  }
 ]
}