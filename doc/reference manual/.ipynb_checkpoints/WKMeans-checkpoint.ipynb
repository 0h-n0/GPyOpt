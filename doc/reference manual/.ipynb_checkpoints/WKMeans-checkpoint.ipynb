{
 "metadata": {
  "name": "",
  "signature": "sha256:17480ad4eae3747d9fe5a6487c9ad41c95b0aa24d87ce7a07b236be6b03ea9b0"
 },
 "nbformat": 3,
 "nbformat_minor": 0,
 "worksheets": [
  {
   "cells": [
    {
     "cell_type": "code",
     "collapsed": false,
     "input": [
      "## \n",
      "## Weigthed K means\n",
      "## \n",
      "import numpy as np\n",
      "from functools import reduce\n",
      "import operator\n",
      "import random\n",
      "import GPy\n",
      "import scipy\n",
      "from scipy.stats import norm\n",
      " \n",
      "def cluster_points(X, w, mu):\n",
      "    clusters  = {}\n",
      "    n = X.shape[0]\n",
      "    for k in range(n):\n",
      "        bestmukey = min([(i[0], w[k,:]*np.linalg.norm(X[k,:]-mu[i[0]])) \\\n",
      "                    for i in enumerate(mu)], key=lambda t:t[1])[0]\n",
      "        try:\n",
      "            clusters[bestmukey].append(X[k,:])\n",
      "        except KeyError:\n",
      "            clusters[bestmukey] = [X[k,:]]\n",
      "    return clusters\n",
      " \n",
      "def reevaluate_centers(mu, clusters):\n",
      "    newmu = []\n",
      "    keys = sorted(clusters.keys())\n",
      "    for k in keys:\n",
      "        newmu.append(np.mean(clusters[k], axis = 0))\n",
      "    return newmu\n",
      "    \n",
      "def WKmeans(X,w,n_centroids):\n",
      "    # Initialize to K random centers\n",
      "    oldmu = random.sample(X, n_centroids)\n",
      "    mu = random.sample(X, n_centroids)\n",
      "    while not has_converged(mu, oldmu):\n",
      "        oldmu = mu\n",
      "        # Assign all points in X to clusters\n",
      "        clusters = cluster_points(X,w, mu)\n",
      "        # Reevaluate centers\n",
      "        mu = reevaluate_centers(oldmu, clusters)\n",
      "    return mu\n",
      "\n",
      "def has_converged(mu, oldmu):\n",
      "    return set([tuple(a) for a in mu]) == set([tuple(a) for a in oldmu])\n",
      "\n",
      "\n",
      "## \n",
      "## probabilty from the elements of a gaussian vector to be the minimum\n",
      "## \n",
      "\n",
      "def copute_w(mu,Sigma):\n",
      "    n_data = Sigma.shape[0]\n",
      "    w = np.zeros((n_data,1))\n",
      "    Sigma12 = scipy.linalg.sqrtm(np.linalg.inv(Sigma)).real\n",
      "    probabilities = norm.cdf(np.dot(Sigma12,mu))\n",
      "   \n",
      "    for i in range(n_data):\n",
      "        w[i,:] = reduce(operator.mul, probabilities [-i], 1)\n",
      "    return w\n",
      "\n",
      "def compute_batch_weigths(x,model):\n",
      "    Sigma = model.kern.K(x)\n",
      "    mu = model.predict(x)[0]\n",
      "    w = copute_w(mu,Sigma)\n",
      "    return w\n",
      "    \n",
      "\n",
      "def sm_batch_optimization(model, n_inbatch, batch_labels):\n",
      "    n = model.X.shape[0]\n",
      "    weights = np.zeros((n,1))\n",
      "    X = model.X\n",
      "    \n",
      "    ## compute weights\n",
      "    for k in np.unique(batch_labels):\n",
      "        x = X[batch_labels == k,:]\n",
      "        weights[batch_labels == k,:] = compute_batch_weigths(x,model)\n",
      "        \n",
      "        ## compute centroids\n",
      "        X_batch = WKmeans(X,weights,n_inbatch)\n",
      "    return np.vstack(X_batch)\n",
      "        \n"
     ],
     "language": "python",
     "metadata": {},
     "outputs": [],
     "prompt_number": 62
    },
    {
     "cell_type": "code",
     "collapsed": false,
     "input": [
      "import numpy as np\n",
      "X = np.random.rand(10,2)\n",
      "y = np.random.rand(10,1)\n",
      "w = np.random.rand(10,1)\n",
      "batch_labels = np.array([0,0,0,0,1,1,1,1,2,2])\n"
     ],
     "language": "python",
     "metadata": {},
     "outputs": [],
     "prompt_number": 63
    },
    {
     "cell_type": "code",
     "collapsed": false,
     "input": [
      "mu = WKmeans(X, w, 4)\n",
      "X"
     ],
     "language": "python",
     "metadata": {},
     "outputs": [
      {
       "metadata": {},
       "output_type": "pyout",
       "prompt_number": 64,
       "text": [
        "array([[ 0.06802916,  0.8803373 ],\n",
        "       [ 0.55914589,  0.64356353],\n",
        "       [ 0.05042363,  0.76802268],\n",
        "       [ 0.85616114,  0.3632132 ],\n",
        "       [ 0.29752246,  0.86744836],\n",
        "       [ 0.48596364,  0.88267439],\n",
        "       [ 0.81415719,  0.85199868],\n",
        "       [ 0.71788928,  0.05964054],\n",
        "       [ 0.17255594,  0.33076181],\n",
        "       [ 0.77851833,  0.40111204]])"
       ]
      }
     ],
     "prompt_number": 64
    },
    {
     "cell_type": "code",
     "collapsed": false,
     "input": [
      "kernel = GPy.kern.RBF(input_dim=2, variance=1., lengthscale=1.)\n",
      "model = GPy.models.GPRegression(X,y,kernel)\n",
      "model.optimize()"
     ],
     "language": "python",
     "metadata": {},
     "outputs": [],
     "prompt_number": 65
    },
    {
     "cell_type": "code",
     "collapsed": false,
     "input": [
      "n_inbatch = 7\n",
      "X_batch = sm_batch_optimization(model, n_inbatch, batch_labels)"
     ],
     "language": "python",
     "metadata": {},
     "outputs": [],
     "prompt_number": 70
    },
    {
     "cell_type": "code",
     "collapsed": false,
     "input": [
      "X_batch"
     ],
     "language": "python",
     "metadata": {},
     "outputs": [
      {
       "metadata": {},
       "output_type": "pyout",
       "prompt_number": 71,
       "text": [
        "array([[ 0.39174305,  0.87506138],\n",
        "       [ 0.81415719,  0.85199868],\n",
        "       [ 0.55914589,  0.64356353],\n",
        "       [ 0.81733974,  0.38216262],\n",
        "       [ 0.05922639,  0.82417999],\n",
        "       [ 0.71788928,  0.05964054],\n",
        "       [ 0.17255594,  0.33076181]])"
       ]
      }
     ],
     "prompt_number": 71
    },
    {
     "cell_type": "code",
     "collapsed": false,
     "input": [
      "X_batch[1]\n",
      "\n"
     ],
     "language": "python",
     "metadata": {},
     "outputs": [
      {
       "metadata": {},
       "output_type": "pyout",
       "prompt_number": 61,
       "text": [
        "array([[ 0.66704122,  0.98676696],\n",
        "       [ 0.70233819,  0.8763082 ],\n",
        "       [ 0.28417239,  0.12519676],\n",
        "       [ 0.25200024,  0.84491499],\n",
        "       [ 0.65179518,  0.39975205]])"
       ]
      }
     ],
     "prompt_number": 61
    },
    {
     "cell_type": "heading",
     "level": 1,
     "metadata": {},
     "source": []
    }
   ],
   "metadata": {}
  }
 ]
}