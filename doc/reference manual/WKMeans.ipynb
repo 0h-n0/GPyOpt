{
 "metadata": {
  "name": "",
  "signature": "sha256:ced2c29660a070d184f4ebe08d83efe336d1a93dce6c351e31448c2ecced571e"
 },
 "nbformat": 3,
 "nbformat_minor": 0,
 "worksheets": [
  {
   "cells": [
    {
     "cell_type": "code",
     "collapsed": false,
     "input": [
      "## \n",
      "## Weigthed K means\n",
      "## \n",
      "import numpy as np\n",
      "from functools import reduce\n",
      "import operator\n",
      "import random\n",
      "import GPy\n",
      "import scipy\n",
      "from scipy.stats import norm\n",
      " \n",
      "def cluster_points(X, w, mu):\n",
      "    clusters  = {}\n",
      "    n = X.shape[0]\n",
      "    for k in range(n):\n",
      "        bestmukey = min([(i[0], w[k,:]*np.linalg.norm(X[k,:]-mu[i[0]])) \\\n",
      "                    for i in enumerate(mu)], key=lambda t:t[1])[0]\n",
      "        try:\n",
      "            clusters[bestmukey].append(X[k,:])\n",
      "        except KeyError:\n",
      "            clusters[bestmukey] = [X[k,:]]\n",
      "    return clusters\n",
      " \n",
      "def reevaluate_centers(mu, clusters):\n",
      "    newmu = []\n",
      "    keys = sorted(clusters.keys())\n",
      "    for k in keys:\n",
      "        newmu.append(np.mean(clusters[k], axis = 0))\n",
      "    return newmu\n",
      "    \n",
      "def WKmeans(X,w,n_centroids):\n",
      "    # Initialize to K random centers\n",
      "    oldmu = random.sample(X, n_centroids)\n",
      "    mu = random.sample(X, n_centroids)\n",
      "    while not has_converged(mu, oldmu):\n",
      "        oldmu = mu\n",
      "        # Assign all points in X to clusters\n",
      "        clusters = cluster_points(X,w, mu)\n",
      "        # Reevaluate centers\n",
      "        mu = reevaluate_centers(oldmu, clusters)\n",
      "    return mu\n",
      "\n",
      "def has_converged(mu, oldmu):\n",
      "    return set([tuple(a) for a in mu]) == set([tuple(a) for a in oldmu])\n",
      "\n",
      "\n",
      "## \n",
      "## probabilty from the elements of a gaussian vector to be the minimum\n",
      "## \n",
      "\n",
      "def copute_w(mu,Sigma):\n",
      "    n_data = Sigma.shape[0]\n",
      "    w = np.zeros((n_data,1))\n",
      "    Sigma12 = scipy.linalg.sqrtm(np.linalg.inv(Sigma)).real\n",
      "    probabilities = norm.cdf(np.dot(Sigma12,mu))\n",
      "   \n",
      "    for i in range(n_data):\n",
      "        w[i,:] = reduce(operator.mul, np.delete(probabilities,i,0), 1)\n",
      "    return w\n",
      "\n",
      "def compute_batch_weigths(x,model):\n",
      "    Sigma = model.kern.K(x)\n",
      "    mu = model.predict(x)[0]\n",
      "    w = copute_w(mu,Sigma)\n",
      "    return w\n",
      "    \n",
      "\n",
      "def sm_batch_optimization(model, n_inbatch, batch_labels):\n",
      "    n = model.X.shape[0]\n",
      "    weights = np.zeros((n,1))\n",
      "    X = model.X\n",
      "    \n",
      "    ## compute weights\n",
      "    for k in np.unique(batch_labels):\n",
      "        x = X[batch_labels == k,:]\n",
      "        weights[batch_labels == k,:] = compute_batch_weigths(x,model)\n",
      "        \n",
      "        ## compute centroids\n",
      "        X_batch = WKmeans(X,weights,n_inbatch)\n",
      "    return np.vstack(X_batch)\n",
      "        \n"
     ],
     "language": "python",
     "metadata": {},
     "outputs": [],
     "prompt_number": 101
    },
    {
     "cell_type": "code",
     "collapsed": false,
     "input": [
      "import numpy as np\n",
      "X = np.random.rand(10,2)\n",
      "y = np.sin(X[:,0])+ np.sin(X[:,1])\n",
      "w = np.random.rand(10,1)\n",
      "batch_labels = np.array([0,0,0,0,1,1,1,1,2,2])\n"
     ],
     "language": "python",
     "metadata": {},
     "outputs": [],
     "prompt_number": 135
    },
    {
     "cell_type": "code",
     "collapsed": false,
     "input": [
      "y.T"
     ],
     "language": "python",
     "metadata": {},
     "outputs": [
      {
       "metadata": {},
       "output_type": "pyout",
       "prompt_number": 136,
       "text": [
        "array([ 0.58783321,  0.62435234,  1.23745823,  0.92323368,  0.84979426,\n",
        "        0.46573907,  1.36507565,  0.60211533,  0.90265379,  0.75081949])"
       ]
      }
     ],
     "prompt_number": 136
    },
    {
     "cell_type": "code",
     "collapsed": false,
     "input": [
      "kernel = GPy.kern.RBF(input_dim=2, variance=1., lengthscale=1.)\n",
      "model = GPy.models.GPRegression(X,y.reshape(10,1),kernel)\n",
      "model.optimize()"
     ],
     "language": "python",
     "metadata": {},
     "outputs": [],
     "prompt_number": 145
    },
    {
     "cell_type": "code",
     "collapsed": false,
     "input": [
      "n_inbatch = 7\n",
      "X_batch = sm_batch_optimization(model, n_inbatch, batch_labels)"
     ],
     "language": "python",
     "metadata": {},
     "outputs": [],
     "prompt_number": 146
    },
    {
     "cell_type": "code",
     "collapsed": false,
     "input": [
      "X_batch"
     ],
     "language": "python",
     "metadata": {},
     "outputs": [
      {
       "metadata": {},
       "output_type": "pyout",
       "prompt_number": 147,
       "text": [
        "array([[ 0.90312826,  0.46921986],\n",
        "       [ 0.67390045,  0.83461363],\n",
        "       [ 0.16918178,  0.82460239],\n",
        "       [ 0.17549479,  0.52281216],\n",
        "       [ 0.15919627,  0.76324453],\n",
        "       [ 0.60261726,  0.11024457],\n",
        "       [ 0.41917164,  0.18182954]])"
       ]
      }
     ],
     "prompt_number": 147
    },
    {
     "cell_type": "code",
     "collapsed": false,
     "input": [
      "mu = model.predict(X)\n",
      "mu"
     ],
     "language": "python",
     "metadata": {},
     "outputs": [
      {
       "metadata": {},
       "output_type": "pyout",
       "prompt_number": 144,
       "text": [
        "(array([[ 0.58783306],\n",
        "        [ 0.62439771],\n",
        "        [ 1.23746961],\n",
        "        [ 0.92324912],\n",
        "        [ 0.8495949 ],\n",
        "        [ 0.4657337 ],\n",
        "        [ 1.3650612 ],\n",
        "        [ 0.60211956],\n",
        "        [ 0.90281331],\n",
        "        [ 0.75080291]]), array([[  1.95405909e-07],\n",
        "        [  1.85623150e-07],\n",
        "        [  1.96984308e-07],\n",
        "        [  1.92761328e-07],\n",
        "        [  1.69504387e-07],\n",
        "        [  1.94718287e-07],\n",
        "        [  1.96880379e-07],\n",
        "        [  1.94899322e-07],\n",
        "        [  1.82568600e-07],\n",
        "        [  1.94337105e-07]]))"
       ]
      }
     ],
     "prompt_number": 144
    },
    {
     "cell_type": "code",
     "collapsed": false,
     "input": [
      "Sigma = model.kern.K(X)"
     ],
     "language": "python",
     "metadata": {},
     "outputs": [],
     "prompt_number": 141
    },
    {
     "cell_type": "code",
     "collapsed": false,
     "input": [
      "compute_batch_weigths(X,model)"
     ],
     "language": "python",
     "metadata": {},
     "outputs": [
      {
       "metadata": {},
       "output_type": "pyout",
       "prompt_number": 143,
       "text": [
        "array([[ 0.00383965],\n",
        "       [ 0.00097964],\n",
        "       [ 0.00055278],\n",
        "       [ 0.00050343],\n",
        "       [ 0.00054827],\n",
        "       [ 0.00227419],\n",
        "       [ 0.00047311],\n",
        "       [ 0.00111372],\n",
        "       [ 0.00174369],\n",
        "       [ 0.00069339]])"
       ]
      }
     ],
     "prompt_number": 143
    },
    {
     "cell_type": "code",
     "collapsed": false,
     "input": [
      "np.zeros((2,1))"
     ],
     "language": "python",
     "metadata": {},
     "outputs": [
      {
       "metadata": {},
       "output_type": "pyout",
       "prompt_number": 149,
       "text": [
        "array([[ 0.],\n",
        "       [ 0.]])"
       ]
      }
     ],
     "prompt_number": 149
    },
    {
     "cell_type": "code",
     "collapsed": false,
     "input": [
      "X.shape[0]"
     ],
     "language": "python",
     "metadata": {},
     "outputs": [
      {
       "metadata": {},
       "output_type": "pyout",
       "prompt_number": 156,
       "text": [
        "10"
       ]
      }
     ],
     "prompt_number": 156
    },
    {
     "cell_type": "code",
     "collapsed": false,
     "input": [],
     "language": "python",
     "metadata": {},
     "outputs": []
    }
   ],
   "metadata": {}
  }
 ]
}