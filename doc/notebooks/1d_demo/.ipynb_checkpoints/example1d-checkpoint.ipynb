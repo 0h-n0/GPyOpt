{
 "metadata": {
  "name": "",
  "signature": "sha256:f4d4d67585266fa803a93143aab7a9115d11ccbcf4aeac6e73de7a4c28dfbb93"
 },
 "nbformat": 3,
 "nbformat_minor": 0,
 "worksheets": [
  {
   "cells": [
    {
     "cell_type": "heading",
     "level": 1,
     "metadata": {},
     "source": [
      "GPyOpt: The tool for Bayesian Optimization \n"
     ]
    },
    {
     "cell_type": "heading",
     "level": 4,
     "metadata": {},
     "source": [
      "Javier Gonzalez (j.h.gonzalez@sheffield.ac.uk), University of Sheffield."
     ]
    },
    {
     "cell_type": "heading",
     "level": 2,
     "metadata": {},
     "source": [
      "Reference Manual index"
     ]
    },
    {
     "cell_type": "markdown",
     "metadata": {},
     "source": [
      "=====================================================================================================\n",
      "1. **What is GPyOpt?**\n",
      "\n",
      "2. **How to install GPyopt?**\n",
      "\n",
      "3. **How to use GPyOpt?**\n",
      "    1. Gaussian Processes\n",
      "    2. Acquisition functions\n",
      "    3. Applications of Bayesian Optimization \n",
      "\n",
      "4. **The Basics of Bayesian Optimization**\n",
      "\n",
      "5. **1D optimizaiton example**\n",
      "\n",
      "6. **2D optimization example**\n",
      "\n",
      "====================================================================================================="
     ]
    },
    {
     "cell_type": "heading",
     "level": 2,
     "metadata": {},
     "source": [
      "1. What is GPyOpt?"
     ]
    },
    {
     "cell_type": "markdown",
     "metadata": {},
     "source": [
      "GPyOpt (http://sheffieldml.github.io/GPy/) is a tool for optimization (minimization) of black-box functions using Gaussian processes. It is based on GPy (http://sheffieldml.github.io/GPy/) and it is implemented in Python 2.7 (https://www.python.org/download/releases/2.7/). \n",
      "\n",
      "Which are the main features of GPyOPt?\n",
      "\n",
      "* You can perform Bayesian Optimization with the **most common acquisition functions**, such as  Expected improvement (EI), Maximum probability of improvement (MPI) or the Upper confidence bound (GP-UCB).\n",
      "\n",
      "\n",
      "* **Any model available in GPy can used in GPyOpt** as a surrogate of the function to optimize. This includes a wide variety of kernel fuctions (and kernel combinations!) and models such as Sparse Gaussain process, usefull to speed up computational costs in large scale scenarios. See https://gpy.readthedocs.org/en/latest/ for details.  \n",
      "\n",
      "\n",
      "* GPyOpt allows you to run **parallel Bayesian optimization**. This helpfull when you can perform simultaneously several evaluations of the function that you want to optimize.\n",
      "\n",
      "\n",
      "* You can use GPyOpt to **desing physical experiments**. Use GPyOPt to define optimize sequential experimental designs. Y\n",
      "\n",
      "\n",
      "* GPyOpt also contains a repository of **test functions for optimization **. \n",
      "\n",
      "=====================================================================================================\n"
     ]
    },
    {
     "cell_type": "heading",
     "level": 2,
     "metadata": {},
     "source": [
      "2. How to install GPyOPt?"
     ]
    },
    {
     "cell_type": "markdown",
     "metadata": {},
     "source": [
      "The simplest way to install GPyOpt is using pip. Ubuntu users can do:\n",
      "\n",
      "    sudo apt-get install python-pip\n",
      "    pip install gpy\n",
      "    \n",
      "====================================================================================================="
     ]
    },
    {
     "cell_type": "heading",
     "level": 2,
     "metadata": {},
     "source": [
      "3. How to use GPyOpt?"
     ]
    },
    {
     "cell_type": "code",
     "collapsed": false,
     "input": [
      "%pylab inline  \n",
      "import GPy\n",
      "import GPyOpt\n",
      "from numpy.random import seed\n",
      "seed(1234)"
     ],
     "language": "python",
     "metadata": {},
     "outputs": [
      {
       "output_type": "stream",
       "stream": "stdout",
       "text": [
        "Populating the interactive namespace from numpy and matplotlib\n"
       ]
      }
     ],
     "prompt_number": 1
    },
    {
     "cell_type": "markdown",
     "metadata": {},
     "source": [
      "GPyOpt is easy to use as a black-box functions optimizer. You only need: \n",
      "\n",
      "* Your favorite function $f$ to minimize. We use $f(x)=x^2$ in this toy example, whose global optimum is at x=0."
     ]
    },
    {
     "cell_type": "code",
     "collapsed": false,
     "input": [
      "def f(x):\n",
      "    return x**2"
     ],
     "language": "python",
     "metadata": {},
     "outputs": [],
     "prompt_number": 19
    },
    {
     "cell_type": "markdown",
     "metadata": {},
     "source": [
      "* A set of box constrains, the interval [-1,1] in our case."
     ]
    },
    {
     "cell_type": "code",
     "collapsed": false,
     "input": [
      "bounds = [(-2,2)]"
     ],
     "language": "python",
     "metadata": {},
     "outputs": [],
     "prompt_number": 20
    },
    {
     "cell_type": "markdown",
     "metadata": {},
     "source": [
      "* A budget, or number of allowed evaluations of $f$."
     ]
    },
    {
     "cell_type": "code",
     "collapsed": false,
     "input": [
      "max_iter = 5"
     ],
     "language": "python",
     "metadata": {},
     "outputs": [],
     "prompt_number": 21
    },
    {
     "cell_type": "markdown",
     "metadata": {},
     "source": [
      "With this three pieces of information GPyOpt has enough to find the minimum of $f$ in the selected region. GPyOpt solves the problem in two steps. First, you need to create a GPyOpt object that stores the problem to solve (f and and box-constrains). You can do it as follows."
     ]
    },
    {
     "cell_type": "code",
     "collapsed": false,
     "input": [
      "myProblem = GPyOpt.methods.BayesianOptimization(f,bounds)"
     ],
     "language": "python",
     "metadata": {},
     "outputs": [],
     "prompt_number": 22
    },
    {
     "cell_type": "markdown",
     "metadata": {},
     "source": [
      "Next you jsut need to run the optimization."
     ]
    },
    {
     "cell_type": "code",
     "collapsed": false,
     "input": [
      "myProblem.start_optimization(max_iter)"
     ],
     "language": "python",
     "metadata": {},
     "outputs": [
      {
       "output_type": "stream",
       "stream": "stdout",
       "text": [
        "*Optimization completed:\n",
        "   -Maximum number of iterations reached.\n"
       ]
      }
     ],
     "prompt_number": 23
    },
    {
     "cell_type": "markdown",
     "metadata": {},
     "source": [
      "After the selected iterations the problem is solved. You can see access to the optimal $x$ by"
     ]
    },
    {
     "cell_type": "code",
     "collapsed": false,
     "input": [
      "myProblem.x_opt"
     ],
     "language": "python",
     "metadata": {},
     "outputs": [
      {
       "metadata": {},
       "output_type": "pyout",
       "prompt_number": 24,
       "text": [
        "array([-0.0678416])"
       ]
      }
     ],
     "prompt_number": 24
    },
    {
     "cell_type": "markdown",
     "metadata": {},
     "source": [
      "and to the value of $f$ in the optimum by"
     ]
    },
    {
     "cell_type": "code",
     "collapsed": false,
     "input": [
      "myProblem.fx_opt"
     ],
     "language": "python",
     "metadata": {},
     "outputs": [
      {
       "metadata": {},
       "output_type": "pyout",
       "prompt_number": 25,
       "text": [
        "array([ 0.00460248])"
       ]
      }
     ],
     "prompt_number": 25
    },
    {
     "cell_type": "markdown",
     "metadata": {},
     "source": [
      "And that's it! Keep reading to learn how GPyOpt uses Bayesian Optimization to solve this an other optimization problem. You will also learn all the features and options that you can use to solve your problems efficiently. \n",
      "\n",
      "=====================================================================================================\n"
     ]
    },
    {
     "cell_type": "heading",
     "level": 2,
     "metadata": {},
     "source": [
      "4. The Basics of Bayesian Optimization"
     ]
    },
    {
     "cell_type": "markdown",
     "metadata": {},
     "source": [
      "Bayesian optimization (BO) is an strategy for global optimization of black-box functions [(Snoek et al., 2012)](http://papers.nips.cc/paper/4522-practical-bayesian-optimization-of-machine-learning-algorithms.pdf). Let $f: {\\mathcal X} \\to R$ be a L-Lipschitz  continuous function defined on a compact subset ${\\mathcal X} \\subseteq R^d$. We are interested in solvig the global optimization problem of finding\n",
      "$$ x_{M} = \\arg \\min_{x \\in {\\mathcal X}} f(x). $$\n",
      "\n",
      "We assume that $f$ is a *black-box* from which only perturbed evaluations of the type $y_i = f(x_i) + \\epsilon_i$, with $\\epsilon_i \\sim\\mathcal{N}(0,\\psi^2)$, are  available. In sequential Bayesian optimisation the goal is to make a series of $x_1,\\dots,x_N$ evaluations of $f$ such that the \\emph{cumulative regret} \n",
      "$$r_N= Nf(x_{M})- \\sum_{n=1}^N f(x_n),$$ \n",
      "is minimised. Essentially, $r_N$ is minimised if we start evaluating $f$ at $x_{M}$ as soon as possible.  \n",
      "\n",
      "There are two crucial bits in any Bayesian Optimization (BO) procedure approach.\n",
      "\n",
      "* Define a **prior probability measure** on $f$: this function will capture the our prior beliefs on $f$. The prior will be updated to a 'posterior' using the available data.\n",
      "\n",
      "* Define an **acquisition function** $acqu(x)$: this is a criteria to decide where to sample next in order to gain the maximum information about the location of the global maximum of $f$.\n",
      "\n",
      "Everytime a new data point is collected. The model is reestimated and the acquisition function optimized again until concergence. Given a prior over the function $f$ and an acquisition function a BO procedure will converge to the optimum of $f$ under some conditions [(Bull, 2011)](http://arxiv.org/pdf/1101.3501.pdf)."
     ]
    },
    {
     "cell_type": "heading",
     "level": 3,
     "metadata": {},
     "source": [
      "4.1 Prior probability meassure on $f$: Gaussian processes"
     ]
    },
    {
     "cell_type": "markdown",
     "metadata": {},
     "source": [
      "A Gaussian process (GP) is a probability distribution across classes functions, typically smooth, such that each linear finite-dimensional restriction is multivariate Gaussian [(Rasmussen and Williams, 2006)](http://www.gaussianprocess.org/gpml). GPs are fully parametrised by a mean $\\mu(x)$ and a covariance function $k(x,x')$.  Without loss of generality $\\mu(x)$ is assumed to be zero. The covariance function $k(x,x')$ characterizes the smoothness and other properties of $f$. It is known as the\n",
      "kernel of the process and has to be continuous, symmetric and positive definite. A widely used kernel is the square exponential, given by\n",
      "\n",
      "$$ k(x,x') = l \\cdot exp{ \\left(\\frac{\\|x-x'\\|}{2\\sigma^2}\\right)} $$\n",
      "where $\\sigma^2$ and and $l$ are positive parameters. \n",
      "\n",
      "To denote that $f$ is a sample from a GP with mean $\\mu$ and covariance $k$ we write \n",
      "\n",
      "$$f(x) \\sim \\mathcal{GP}(\\mu(x),k(x,x')).$$ \n",
      "\n",
      "For regression taks, the most important feature of GPs is that process priors are conjugate to the likelihood from finitely many observations $y= (y_1,\\dots,y_n)^T$ and $X =\\{x_1,...,x_n\\}$, $x_i\\in \\mathcal{X}$ of the form $y_i = f(x_i) + \\epsilon_i $\n",
      "where $\\epsilon_i \\sim \\mathcal{N} (0,\\sigma^2)$. We obtain the Gaussian posterior posterior $f(x^*)|X, y \\sim \\mathcal{N}(\\mu(x^*),\\sigma^2(x^*))$, where $\\mu(x^*)$ and $\\sigma^2(x^*)$ have close form. See [(Rasmussen and Williams, 2006)](http://www.gaussianprocess.org/gpml) for details."
     ]
    },
    {
     "cell_type": "heading",
     "level": 3,
     "metadata": {},
     "source": [
      "4.2 Acquisition function"
     ]
    },
    {
     "cell_type": "markdown",
     "metadata": {},
     "source": [
      "Acquisition functions are designed represents our beliefs over the maximum of $f(x)$. Denote by $\\theta$ the parameters of the GP model and by $\\{x_i,y_i\\}$ the available sample. Three of the most common acquisition functions are:\n",
      "\n",
      "* **Maximum probability of improvement (MPI)**:\n",
      "\n",
      "$$acqu_{MPI}(x;\\{x_n,y_n\\},\\theta) = \\Phi(\\gamma(x)), \\mbox{where}\\   \\gamma(x)=\\frac{\\mu(x;\\{x_n,y_n\\},\\theta)-f(x_{best})-\\psi}{\\sigma(x;\\{x_n,y_n\\},\\theta)}.$$\n",
      "\n",
      "\n",
      "* **Expected improvement (EI)**:\n",
      "\n",
      "$$acqu_{EI}(x;\\{x_n,y_n\\},\\theta) = \\sigma(x;\\{x_n,y_n\\},\\theta) (\\gamma(x) \\Phi(\\gamma(x))) + N(\\gamma(x);0,1).$$\n",
      "\n",
      "* **Upper confidence bound (UCB)**:\n",
      "\n",
      "$$acqu_{UCB}(x;\\{x_n,y_n\\},\\theta) = \\mu(x;\\{x_n,y_n\\},\\theta)+\\eta\\sigma(x;\\{x_n,y_n\\},\\theta).$$\n",
      "\n",
      "Both, $\\psi$ and $\\eta$, are tunable parameters that help to make the acquisition functions more flexible. Also, in the case of the UBC, the parameter $\\eta$ is useful to define the balance between the importance we give to the mean and the variance of the model. This is know as the **exploration/exploitation trade off**."
     ]
    },
    {
     "cell_type": "heading",
     "level": 3,
     "metadata": {},
     "source": [
      "4.3 Applications of bayesian optimization"
     ]
    },
    {
     "cell_type": "code",
     "collapsed": false,
     "input": [
      "from IPython.display import YouTubeVideo"
     ],
     "language": "python",
     "metadata": {},
     "outputs": [],
     "prompt_number": 12
    },
    {
     "cell_type": "markdown",
     "metadata": {},
     "source": [
      "BO has been applied to solve a wide range of problems including: \n",
      "\n",
      "* Gene desing (http://bayesopt.github.io/papers/paper5.pdf),\n",
      "\n",
      "* Sensor networks (http://www.robots.ox.ac.uk/~parg/pubs/ipsn673-garnett.pdf),\n",
      "\n",
      "* Automatic algorithm configuration (http://www.cs.ubc.ca/labs/beta/Projects/SMAC/papers/11-LION5-SMAC.pdf), \n",
      "\n",
      "* Deep learning (http://www.mlss2014.com/files/defreitas_slides1.pdf), \n",
      "\n",
      "* and a long etc!"
     ]
    },
    {
     "cell_type": "code",
     "collapsed": false,
     "input": [
      "YouTubeVideo('gg4UcBpS51k')"
     ],
     "language": "python",
     "metadata": {},
     "outputs": [
      {
       "html": [
        "\n",
        "        <iframe\n",
        "            width=\"400\"\n",
        "            height=300\"\n",
        "            src=\"https://www.youtube.com/embed/gg4UcBpS51k\"\n",
        "            frameborder=\"0\"\n",
        "            allowfullscreen\n",
        "        ></iframe>\n",
        "        "
       ],
       "metadata": {},
       "output_type": "pyout",
       "prompt_number": 13,
       "text": [
        "<IPython.lib.display.YouTubeVideo at 0xb7549ac>"
       ]
      }
     ],
     "prompt_number": 13
    },
    {
     "cell_type": "code",
     "collapsed": false,
     "input": [
      "YouTubeVideo('R3wIEzkv4Pg')"
     ],
     "language": "python",
     "metadata": {},
     "outputs": [
      {
       "html": [
        "\n",
        "        <iframe\n",
        "            width=\"400\"\n",
        "            height=300\"\n",
        "            src=\"https://www.youtube.com/embed/R3wIEzkv4Pg\"\n",
        "            frameborder=\"0\"\n",
        "            allowfullscreen\n",
        "        ></iframe>\n",
        "        "
       ],
       "metadata": {},
       "output_type": "pyout",
       "prompt_number": 11,
       "text": [
        "<IPython.lib.display.YouTubeVideo at 0xb754fac>"
       ]
      }
     ],
     "prompt_number": 11
    },
    {
     "cell_type": "code",
     "collapsed": false,
     "input": [],
     "language": "python",
     "metadata": {},
     "outputs": []
    },
    {
     "cell_type": "heading",
     "level": 2,
     "metadata": {},
     "source": [
      "One dimensional example"
     ]
    },
    {
     "cell_type": "markdown",
     "metadata": {},
     "source": [
      "Let's start by considering the Forrester function $f(x) =(6x -2)^2)*sin(12*x-4)$ defined on the interval $[0, 1.5]$. The minimum of this function is located at $x_{min}=0.78$. To obtain it in this example is easy because you have an explicit form of $f$. But, what if $f$ is not explicitly available and we only had access to a small number of noise evaluations? We illustrate how BO acts in this case."
     ]
    },
    {
     "cell_type": "code",
     "collapsed": false,
     "input": [
      "# Create the function object from GPyOpt and define the boundaries of the problem\n",
      "f_true = GPyOpt.fmodels.experiments1d.forrester()\n",
      "f_sim = GPyOpt.fmodels.experiments1d.forrester(sd= .25)\n",
      "bounds = [(0,1.5)]"
     ],
     "language": "python",
     "metadata": {},
     "outputs": [],
     "prompt_number": 2
    },
    {
     "cell_type": "code",
     "collapsed": false,
     "input": [
      "f_true.plot(bounds)"
     ],
     "language": "python",
     "metadata": {},
     "outputs": [
      {
       "metadata": {},
       "output_type": "display_data",
       "png": "[encoded data removed]",
       "text": [
        "<matplotlib.figure.Figure at 0xb7547ec>"
       ]
      }
     ],
     "prompt_number": 3
    },
    {
     "cell_type": "code",
     "collapsed": false,
     "input": [
      "# starts the optimization \n",
      "myBopt = GPyOpt.methods.BayesianOptimization(f=f_sim.f,\n",
      "                                             bounds=bounds,\n",
      "                                             acquisition='EI',\n",
      "                                             acquisition_par = 2,\n",
      "                                             normalize = False, \n",
      "                                             verbosity=0)\n",
      "\n",
      "myBopt.start_optimization(max_iter = 15, \n",
      "                          n_inbatch = 1,\n",
      "                          acqu_optimize_method = 'brute', \n",
      "                          acqu_optimize_restarts = 30, \n",
      "                          stop_criteria=-1)\n",
      "\n",
      "myBopt.plot_acquisition()\n",
      "myBopt.plot_convergence()"
     ],
     "language": "python",
     "metadata": {},
     "outputs": []
    },
    {
     "cell_type": "code",
     "collapsed": false,
     "input": [
      "# starts the optimization \n",
      "myBopt = GPyOpt.methods.BayesianOptimization(f=f_sim.f,\n",
      "                                             bounds=bounds,\n",
      "                                             acquisition='LCB',\n",
      "                                             acquisition_par=2,\n",
      "                                             normalize = False, \n",
      "                                             verbosity=0)\n",
      "\n",
      "from IPython.display import clear_output\n",
      "N_iter = 20\n",
      "\n",
      "for i in range(N_iter):\n",
      "    clear_output()\n",
      "    myBopt.start_optimization(max_iter = 1, \n",
      "                              acqu_optimize_method = 'brute', \n",
      "                              acqu_optimize_restarts = 30, \n",
      "                              stop_criteria=-1)\n",
      "    myBopt.plot_acquisition('iteration%.03i.png' % (i + 1))"
     ],
     "language": "python",
     "metadata": {},
     "outputs": []
    },
    {
     "cell_type": "code",
     "collapsed": false,
     "input": [
      "# Import JSAnimation \n",
      "from JSAnimation import IPython_display, HTMLWriter\n",
      "from matplotlib import animation\n",
      "import Image\n",
      "import glob\n",
      "\n",
      "# Choose location of files to use\n",
      "filenames=sorted(glob.glob('iteration*.png'))\n",
      "\n",
      "#Create figure\n",
      "fig = plt.figure(figsize=(10,5))\n",
      "ax = fig.add_axes([0, 0, 1, 1])\n",
      "ax.axis('off')\n",
      "im = plt.imshow(Image.open(filenames[0]))\n",
      "\n",
      "# Create initializatio function\n",
      "def init():\n",
      "    im.set_data(Image.open(filenames[0]))\n",
      "    return im,\n",
      "\n",
      "# Create animation function\n",
      "def animate(i):\n",
      "    image=Image.open(filenames[i])\n",
      "    im.set_data(image)\n",
      "    return im,\n",
      "\n",
      "nframes = 20\n",
      "anim = animation.FuncAnimation(fig, animate, init_func=init,\n",
      "                               frames=nframes, interval=1000, blit=True)\n",
      "\n",
      "#set embed_frames=True to embed base64-encoded frames directly in the HTML\n",
      "anim.save('animation.html', writer=HTMLWriter(embed_frames=True))\n",
      "\n",
      "# Show animation in ipython notebook\n",
      "anim"
     ],
     "language": "python",
     "metadata": {},
     "outputs": []
    },
    {
     "cell_type": "code",
     "collapsed": false,
     "input": [
      "filenames"
     ],
     "language": "python",
     "metadata": {},
     "outputs": []
    },
    {
     "cell_type": "code",
     "collapsed": false,
     "input": [],
     "language": "python",
     "metadata": {},
     "outputs": []
    }
   ],
   "metadata": {}
  }
 ]
}