{
 "cells": [
  {
   "cell_type": "markdown",
   "metadata": {},
   "source": [
    "# Creating new acquisitions for GPyOpt"
   ]
  },
  {
   "cell_type": "code",
   "execution_count": null,
   "metadata": {
    "collapsed": true
   },
   "outputs": [],
   "source": [
    "from GPyOpt.base import AcquisitionBase\n",
    "from GPyOpt.core.task.cost import constant_cost_withGradients\n",
    "    \n",
    "class AcquisitionNew(AcquisitionBase):\n",
    "    \n",
    "    \"\"\"\n",
    "    Template to create a new GPyOPt acquisition function\n",
    "\n",
    "    :param model: GPyOpt class of model\n",
    "    :param space: GPyOpt class of domain\n",
    "    :param optimizer: optimizer of the acquisition. Should be a GPyOpt optimizer\n",
    "    :param cost_withGradients: function that provides the evaluation cost and its gradients\n",
    "\n",
    "    .. Note:: this computes the acquisition per unit of cost (contant bu default in GPyOpt)\n",
    "\n",
    "    \"\"\"\n",
    "\n",
    "    def __init__(self, model, space, optimizer, cost_withGradients=None,**kwargs):\n",
    "        self.optimizer = optimizer\n",
    "        super(AcquisitionEI, self).__init__(model, space, optimizer)\n",
    "\n",
    "        if cost_withGradients == None:\n",
    "            self.cost_withGradients = constant_cost_withGradients\n",
    "        else:\n",
    "            self.cost_withGradients = cost_withGradients \n",
    "\n",
    "    def _compute_acq(self,x)\n",
    "    \n",
    "        # [... COMPUTE THE ACQUISITION HERE (to be maximized) ...]\n",
    "        return f_acqu_x\n",
    "    \n",
    "    def _compute_acq_withGradients(self, x):\n",
    "        \n",
    "        # [... COMPUTE THE ACQUISITION (to be maximized) WITH GRADIENTS HERE ...]\n",
    "        # if gradients are not available this function is not needed\n",
    "        return f_acqu_x, df_acqu_x\n",
    "            \n",
    "   \n",
    "    def acquisition_function(self,x):\n",
    "        \"\"\"\n",
    "        New acquisition  in domain and with cost\n",
    "        \"\"\"\n",
    "        f_acqu = self._compute_acq(x)\n",
    "        cost_x, _ = self.cost_withGradients(x)\n",
    "        return -(f_acqu*self.space.indicator_constrains(x))/cost_x\n",
    "    \n",
    "\n",
    "    def acquisition_function_withGradients(self, x):\n",
    "        \"\"\"\n",
    "        New acquisition and its derivative in domain and with cost\n",
    "        \"\"\"\n",
    "        f_acqu,df_acqu = self._compute_acq_withGradients(x)\n",
    "        cost_x, cost_grad_x = self.cost_withGradients(x)\n",
    "        f_acq_cost = f_acqu/cost_x\n",
    "        df_acq_cost = (df_acqu*cost_x - f_acqu*cost_grad_x)/(cost_x**2)\n",
    "        return -f_acq_cost*self.space.indicator_constrains(x), -df_acq_cost*self.space.indicator_constrains(x)\n"
   ]
  }
 ],
 "metadata": {
  "kernelspec": {
   "display_name": "Python 2",
   "language": "python",
   "name": "python2"
  },
  "language_info": {
   "codemirror_mode": {
    "name": "ipython",
    "version": 2
   },
   "file_extension": ".py",
   "mimetype": "text/x-python",
   "name": "python",
   "nbconvert_exporter": "python",
   "pygments_lexer": "ipython2",
   "version": "2.7.11"
  }
 },
 "nbformat": 4,
 "nbformat_minor": 0
}
