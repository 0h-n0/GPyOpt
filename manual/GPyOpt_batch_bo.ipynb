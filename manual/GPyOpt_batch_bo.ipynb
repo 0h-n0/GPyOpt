{
 "metadata": {
  "name": "",
  "signature": "sha256:ed49f1eaf365ba2dfa795b0f0138f37de3f2f2c5c62955fac78c51c26468abe4"
 },
 "nbformat": 3,
 "nbformat_minor": 0,
 "worksheets": [
  {
   "cells": [
    {
     "cell_type": "code",
     "collapsed": false,
     "input": [
      "./GPyOpt_batch_bo.ipynb"
     ],
     "language": "python",
     "metadata": {},
     "outputs": []
    }
   ],
   "metadata": {}
  }
 ]
}