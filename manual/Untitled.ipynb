{
 "cells": [
  {
   "cell_type": "code",
   "execution_count": 21,
   "metadata": {
    "collapsed": false
   },
   "outputs": [
    {
     "name": "stdout",
     "output_type": "stream",
     "text": [
      "Populating the interactive namespace from numpy and matplotlib\n"
     ]
    }
   ],
   "source": [
    "%pylab inline\n",
    "import GPyOpt\n",
    "from numpy.random import seed\n",
    "import matplotlib.pyplot as plt\n",
    "seed(1234)"
   ]
  },
  {
   "cell_type": "code",
   "execution_count": 22,
   "metadata": {
    "collapsed": false
   },
   "outputs": [],
   "source": [
    "func  = GPyOpt.objective_examples.experiments1d.forrester() \n",
    "space = GPyOpt.Design_space([{'type': 'continuous','domain':func.bounds[0]}])"
   ]
  },
  {
   "cell_type": "code",
   "execution_count": 23,
   "metadata": {
    "collapsed": false
   },
   "outputs": [],
   "source": [
    "objective = GPyOpt.core.task.SingleObjective(func.f, space, cost='computing_time')"
   ]
  },
  {
   "cell_type": "code",
   "execution_count": 24,
   "metadata": {
    "collapsed": false
   },
   "outputs": [],
   "source": [
    "initial_design = GPyOpt.util.stats.initial_design('random', space.get_continuous_bounds(), 100)"
   ]
  },
  {
   "cell_type": "code",
   "execution_count": 25,
   "metadata": {
    "collapsed": false
   },
   "outputs": [
    {
     "name": "stdout",
     "output_type": "stream",
     "text": [
      "Optimization restart 1/5, f = 27.9600548824\n",
      "Optimization restart 2/5, f = 27.9600548838\n",
      "Optimization restart 3/5, f = 27.9600549785\n",
      "Optimization restart 4/5, f = 27.9601127775\n",
      "Optimization restart 5/5, f = 27.9600553377\n"
     ]
    },
    {
     "data": {
      "text/plain": [
       "(array([[ -7.17801774e-01],\n",
       "        [ -9.54928799e-01],\n",
       "        [  3.72656493e-01],\n",
       "        [ -5.56914488e+00],\n",
       "        [ -5.72879715e+00],\n",
       "        [ -8.84633826e-02],\n",
       "        [ -7.34283601e-02],\n",
       "        [ -4.84997051e+00],\n",
       "        [  1.31710626e+01],\n",
       "        [  2.39573263e+00],\n",
       "        [  6.24972868e-03],\n",
       "        [  9.15093796e-01],\n",
       "        [ -3.84985653e+00],\n",
       "        [ -5.11499372e+00],\n",
       "        [  2.10318832e-02],\n",
       "        [  7.40333007e-01],\n",
       "        [  9.26637398e-01],\n",
       "        [  2.34917521e+00],\n",
       "        [ -5.88577646e+00],\n",
       "        [  3.29830449e+00],\n",
       "        [  1.32484282e-02],\n",
       "        [ -6.89605629e-01],\n",
       "        [ -1.10551128e-01],\n",
       "        [  1.87334328e-02],\n",
       "        [  1.02610137e+01],\n",
       "        [ -2.27540117e+00],\n",
       "        [  1.01853379e-01],\n",
       "        [ -5.45062936e+00],\n",
       "        [ -1.92696981e-03],\n",
       "        [  6.32438839e-01],\n",
       "        [  1.50702359e+00],\n",
       "        [  3.59358633e-01],\n",
       "        [ -4.83499797e+00],\n",
       "        [ -9.86115411e-01],\n",
       "        [ -4.78506319e+00],\n",
       "        [ -4.79822266e+00],\n",
       "        [ -4.63238075e-01],\n",
       "        [  9.16901305e+00],\n",
       "        [  4.11316223e-01],\n",
       "        [  7.02282516e+00],\n",
       "        [  3.77697196e-01],\n",
       "        [ -7.80845863e-01],\n",
       "        [  8.42307974e-01],\n",
       "        [ -3.43296106e+00],\n",
       "        [  1.49811407e-02],\n",
       "        [  9.72736757e-01],\n",
       "        [  1.00550034e+00],\n",
       "        [  7.36981018e-01],\n",
       "        [ -2.12581643e-05],\n",
       "        [  9.26016883e-01],\n",
       "        [ -8.21927794e-01],\n",
       "        [ -3.89410485e-01],\n",
       "        [  6.68396908e-01],\n",
       "        [  2.69256014e+00],\n",
       "        [ -7.68655552e-01],\n",
       "        [  7.41592225e+00],\n",
       "        [ -5.38169168e+00],\n",
       "        [  1.56018587e+01],\n",
       "        [  1.32376373e+01],\n",
       "        [ -5.32338730e+00],\n",
       "        [ -4.54015817e-02],\n",
       "        [ -1.07079467e+00],\n",
       "        [  7.43989918e-01],\n",
       "        [ -6.79949318e-01],\n",
       "        [  4.79011066e-02],\n",
       "        [  5.91375582e-01],\n",
       "        [  4.98208970e-01],\n",
       "        [  1.51108680e+01],\n",
       "        [ -9.28508897e-01],\n",
       "        [ -8.95040744e-01],\n",
       "        [ -5.84416497e+00],\n",
       "        [  2.17832011e-01],\n",
       "        [  6.85847429e-01],\n",
       "        [ -7.63082107e-01],\n",
       "        [ -3.70251120e-01],\n",
       "        [  5.70705111e+00],\n",
       "        [  2.10947561e-01],\n",
       "        [  9.63963642e-01],\n",
       "        [  2.71997624e+00],\n",
       "        [ -1.47094383e-02],\n",
       "        [  3.65494448e-01],\n",
       "        [ -5.67492806e-01],\n",
       "        [  8.25963101e+00],\n",
       "        [ -1.10514517e+00],\n",
       "        [ -4.85583370e+00],\n",
       "        [ -9.78630630e-01],\n",
       "        [ -5.95614886e+00],\n",
       "        [ -2.72938982e+00],\n",
       "        [ -1.45122224e+00],\n",
       "        [  3.77681712e-01],\n",
       "        [ -9.71931420e-01],\n",
       "        [  6.27074667e-01],\n",
       "        [  9.83650514e-01],\n",
       "        [  1.24619818e+01],\n",
       "        [  7.63672168e-01],\n",
       "        [  9.23823198e-01],\n",
       "        [  9.59770418e-01],\n",
       "        [ -3.71764905e+00],\n",
       "        [  4.72859404e-01],\n",
       "        [ -3.16363526e+00]]), array([[ -9.04468021],\n",
       "        [ -9.8420662 ],\n",
       "        [ -9.94593306],\n",
       "        [ -9.98654778],\n",
       "        [-10.01279601],\n",
       "        [-10.01279601],\n",
       "        [-10.02888215],\n",
       "        [-10.02888215],\n",
       "        [-10.05628112],\n",
       "        [-10.01279601],\n",
       "        [-10.03430221],\n",
       "        [-10.02888215],\n",
       "        [ -9.75617653],\n",
       "        [ -9.94593306],\n",
       "        [-10.02888215],\n",
       "        [ -9.02072697],\n",
       "        [ -9.55214449],\n",
       "        [ -9.68855634],\n",
       "        [ -9.80682026],\n",
       "        [ -9.82870297],\n",
       "        [ -9.9213618 ],\n",
       "        [ -9.78965246],\n",
       "        [ -9.75206975],\n",
       "        [ -9.77277442],\n",
       "        [ -9.70406053],\n",
       "        [ -9.78965246],\n",
       "        [ -9.77277442],\n",
       "        [ -9.68855634],\n",
       "        [ -9.70406053],\n",
       "        [ -9.70406053],\n",
       "        [ -9.62522047],\n",
       "        [ -9.68855634],\n",
       "        [ -9.68855634],\n",
       "        [ -9.65825099],\n",
       "        [ -9.73984964],\n",
       "        [ -9.80682026],\n",
       "        [ -9.77277442],\n",
       "        [ -9.82428795],\n",
       "        [ -9.75617653],\n",
       "        [ -9.64343591],\n",
       "        [ -9.75206975],\n",
       "        [ -9.75617653],\n",
       "        [ -8.97824954],\n",
       "        [ -9.6108833 ],\n",
       "        [ -9.71980888],\n",
       "        [ -9.78965246],\n",
       "        [ -9.75206975],\n",
       "        [ -9.82428795],\n",
       "        [ -9.82870297],\n",
       "        [ -9.70797443],\n",
       "        [ -9.75617653],\n",
       "        [ -9.77277442],\n",
       "        [ -9.73984964],\n",
       "        [ -9.80682026],\n",
       "        [ -9.84656059],\n",
       "        [ -9.82870297],\n",
       "        [ -9.88326196],\n",
       "        [ -9.77277442],\n",
       "        [ -9.68855634],\n",
       "        [ -9.70406053],\n",
       "        [ -9.70797443],\n",
       "        [ -9.65825099],\n",
       "        [ -9.67328887],\n",
       "        [ -9.4471196 ],\n",
       "        [ -9.9213618 ],\n",
       "        [ -9.96603424],\n",
       "        [-10.00749096],\n",
       "        [ -9.80682026],\n",
       "        [ -9.98654778],\n",
       "        [ -9.98654778],\n",
       "        [ -9.94593306],\n",
       "        [ -9.94593306],\n",
       "        [ -9.94593306],\n",
       "        [-10.05074094],\n",
       "        [-10.05628112],\n",
       "        [-10.07875398],\n",
       "        [ -9.8420662 ],\n",
       "        [ -9.90213044],\n",
       "        [ -9.90690372],\n",
       "        [ -9.96603424],\n",
       "        [ -9.96603424],\n",
       "        [-10.02888215],\n",
       "        [ -9.98654778],\n",
       "        [ -7.67776432],\n",
       "        [ -9.65825099],\n",
       "        [ -9.55214449],\n",
       "        [ -9.80682026],\n",
       "        [ -9.84656059],\n",
       "        [ -9.82870297],\n",
       "        [ -9.98654778],\n",
       "        [ -9.94593306],\n",
       "        [ -9.98654778],\n",
       "        [ -9.92622799],\n",
       "        [ -9.90690372],\n",
       "        [-10.03430221],\n",
       "        [-10.17406416],\n",
       "        [-10.18033377],\n",
       "        [-10.20581286],\n",
       "        [-10.23195814],\n",
       "        [-10.18033377]]))"
      ]
     },
     "execution_count": 25,
     "metadata": {},
     "output_type": "execute_result"
    }
   ],
   "source": [
    "objective.evaluate(initial_design)\n"
   ]
  },
  {
   "cell_type": "code",
   "execution_count": 26,
   "metadata": {
    "collapsed": false
   },
   "outputs": [
    {
     "data": {
      "text/plain": [
       "<matplotlib.axes._subplots.AxesSubplot at 0x1097bbcd0>"
      ]
     },
     "execution_count": 26,
     "metadata": {},
     "output_type": "execute_result"
    },
    {
     "data": {
      "image/png": "[encoded data removed]",
      "text/plain": [
       "<matplotlib.figure.Figure at 0x1097d0a50>"
      ]
     },
     "metadata": {},
     "output_type": "display_data"
    }
   ],
   "source": [
    "objective.cost_model.model.plot()"
   ]
  },
  {
   "cell_type": "code",
   "execution_count": 20,
   "metadata": {
    "collapsed": false
   },
   "outputs": [
    {
     "data": {
      "text/plain": [
       "[<matplotlib.lines.Line2D at 0x1097aea90>]"
      ]
     },
     "execution_count": 20,
     "metadata": {},
     "output_type": "execute_result"
    },
    {
     "data": {
      "image/png": "[encoded data removed]",
      "text/plain": [
       "<matplotlib.figure.Figure at 0x1088299d0>"
      ]
     },
     "metadata": {},
     "output_type": "display_data"
    }
   ],
   "source": [
    "x_grid = np.arange(0, 1,0.001)\n",
    "plt.plot(x_grid,objective.evalute_cost(x_grid.reshape(len(x_grid),1)))"
   ]
  },
  {
   "cell_type": "code",
   "execution_count": null,
   "metadata": {
    "collapsed": true
   },
   "outputs": [],
   "source": []
  },
  {
   "cell_type": "code",
   "execution_count": null,
   "metadata": {
    "collapsed": true
   },
   "outputs": [],
   "source": []
  },
  {
   "cell_type": "code",
   "execution_count": null,
   "metadata": {
    "collapsed": true
   },
   "outputs": [],
   "source": []
  }
 ],
 "metadata": {
  "kernelspec": {
   "display_name": "Python 2",
   "language": "python",
   "name": "python2"
  },
  "language_info": {
   "codemirror_mode": {
    "name": "ipython",
    "version": 2
   },
   "file_extension": ".py",
   "mimetype": "text/x-python",
   "name": "python",
   "nbconvert_exporter": "python",
   "pygments_lexer": "ipython2",
   "version": "2.7.10"
  }
 },
 "nbformat": 4,
 "nbformat_minor": 0
}
