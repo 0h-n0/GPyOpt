{
 "metadata": {
  "name": "",
  "signature": "sha256:efd1d11cddd5665bacebfccd542255f86894fb4a707e02753c8f41ed92ef5795"
 },
 "nbformat": 3,
 "nbformat_minor": 0,
 "worksheets": [
  {
   "cells": [
    {
     "cell_type": "code",
     "collapsed": false,
     "input": [
      "GPyOpt_large_scasle"
     ],
     "language": "python",
     "metadata": {},
     "outputs": []
    }
   ],
   "metadata": {}
  }
 ]
}