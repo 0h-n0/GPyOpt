{
 "cells": [
  {
   "cell_type": "code",
   "execution_count": 1,
   "metadata": {
    "collapsed": false
   },
   "outputs": [
    {
     "name": "stdout",
     "output_type": "stream",
     "text": [
      "Populating the interactive namespace from numpy and matplotlib\n"
     ]
    }
   ],
   "source": [
    "%pylab inline\n",
    "import GPyOpt\n",
    "from numpy.random import seed\n",
    "import matplotlib.pyplot as plt\n",
    "seed(1234)"
   ]
  },
  {
   "cell_type": "code",
   "execution_count": 2,
   "metadata": {
    "collapsed": false
   },
   "outputs": [],
   "source": [
    "func  = GPyOpt.objective_examples.experiments1d.forrester() \n",
    "space = GPyOpt.Design_space([{'type': 'continuous','domain':func.bounds[0],'dimensionality':1}])"
   ]
  },
  {
   "cell_type": "code",
   "execution_count": 3,
   "metadata": {
    "collapsed": false
   },
   "outputs": [],
   "source": [
    "objective = GPyOpt.core.task.SingleObjective(func.f, space)"
   ]
  },
  {
   "cell_type": "code",
   "execution_count": 4,
   "metadata": {
    "collapsed": false
   },
   "outputs": [],
   "source": [
    "initial_design = GPyOpt.util.stats.initial_design('random', space, 10)"
   ]
  },
  {
   "cell_type": "code",
   "execution_count": 5,
   "metadata": {
    "collapsed": false
   },
   "outputs": [],
   "source": [
    "# --- CHOOSE the model type\n",
    "model = GPyOpt.models.GPModel(optimize_restarts=5,verbose=False)"
   ]
  },
  {
   "cell_type": "code",
   "execution_count": 6,
   "metadata": {
    "collapsed": false
   },
   "outputs": [],
   "source": [
    "# --- CHOOSE the acquisition optimizer\n",
    "aquisition_optimizer = GPyOpt.optimization.AcquisitionOptimizer(space)"
   ]
  },
  {
   "cell_type": "code",
   "execution_count": 7,
   "metadata": {
    "collapsed": false
   },
   "outputs": [],
   "source": [
    "# --- CHOOSE the type of acquisition\n",
    "acquisition = GPyOpt.acquisitions.AcquisitionEI(model, space, optimizer=aquisition_optimizer)"
   ]
  },
  {
   "cell_type": "code",
   "execution_count": 8,
   "metadata": {
    "collapsed": false
   },
   "outputs": [
    {
     "data": {
      "text/plain": [
       "array([[ 0.10395535],\n",
       "       [ 0.26602317],\n",
       "       [ 0.19057554],\n",
       "       [ 0.58366835],\n",
       "       [ 0.08574415]])"
      ]
     },
     "execution_count": 8,
     "metadata": {},
     "output_type": "execute_result"
    }
   ],
   "source": [
    "# --- CHOOSE the intial design\n",
    "initial_design = GPyOpt.util.stats.initial_design('random', space, 5)\n",
    "initial_design"
   ]
  },
  {
   "cell_type": "code",
   "execution_count": 9,
   "metadata": {
    "collapsed": false
   },
   "outputs": [
    {
     "ename": "TypeError",
     "evalue": "__init__() takes at least 7 arguments (6 given)",
     "output_type": "error",
     "traceback": [
      "\u001b[0;31m---------------------------------------------------------------------------\u001b[0m",
      "\u001b[0;31mTypeError\u001b[0m                                 Traceback (most recent call last)",
      "\u001b[0;32m<ipython-input-9-09128d2dc338>\u001b[0m in \u001b[0;36m<module>\u001b[0;34m()\u001b[0m\n\u001b[1;32m      1\u001b[0m \u001b[0;31m# BO object\u001b[0m\u001b[0;34m\u001b[0m\u001b[0;34m\u001b[0m\u001b[0m\n\u001b[0;32m----> 2\u001b[0;31m \u001b[0mbo\u001b[0m \u001b[0;34m=\u001b[0m \u001b[0mGPyOpt\u001b[0m\u001b[0;34m.\u001b[0m\u001b[0mcore\u001b[0m\u001b[0;34m.\u001b[0m\u001b[0mBO\u001b[0m\u001b[0;34m(\u001b[0m\u001b[0mmodel\u001b[0m\u001b[0;34m,\u001b[0m \u001b[0mspace\u001b[0m\u001b[0;34m,\u001b[0m \u001b[0mobjective\u001b[0m\u001b[0;34m,\u001b[0m \u001b[0macquisition\u001b[0m\u001b[0;34m,\u001b[0m \u001b[0minitial_design\u001b[0m\u001b[0;34m)\u001b[0m\u001b[0;34m\u001b[0m\u001b[0m\n\u001b[0m",
      "\u001b[0;31mTypeError\u001b[0m: __init__() takes at least 7 arguments (6 given)"
     ]
    }
   ],
   "source": [
    "# BO object\n",
    "bo = GPyOpt.core.BO(model, space, objective, acquisition, initial_design)"
   ]
  },
  {
   "cell_type": "code",
   "execution_count": 23,
   "metadata": {
    "collapsed": false,
    "scrolled": true
   },
   "outputs": [
    {
     "name": "stdout",
     "output_type": "stream",
     "text": [
      "Optimization restart 1/5, f = 7.09470041225\n",
      "Optimization restart 2/5, f = 7.09470310752\n",
      "Optimization restart 3/5, f = 7.09469499185\n",
      "Optimization restart 4/5, f = 5.09326383779\n",
      "Optimization restart 5/5, f = 5.09327283038\n",
      "Optimization restart 1/5, f = 4.73091104084\n",
      "Optimization restart 2/5, f = 8.51363142859\n",
      "Optimization restart 3/5, f = 8.5136313046\n",
      "Optimization restart 4/5, f = 4.73091085629\n",
      "Optimization restart 5/5, f = 8.51363656408\n",
      "Optimization restart 1/5, f = -0.927426350765\n",
      "Optimization restart 2/5, f = -0.927427274019\n",
      "Optimization restart 3/5, f = 9.93257241135\n",
      "Optimization restart 4/5, f = -0.927427081603\n",
      "Optimization restart 5/5, f = 9.93256983321\n",
      "Optimization restart 1/5, f = 0.981057055063\n",
      "Optimization restart 2/5, f = 11.3515089927\n",
      "Optimization restart 3/5, f = 0.981059948984\n",
      "Optimization restart 4/5, f = 11.3515088291\n",
      "Optimization restart 5/5, f = 11.3515168777\n",
      "Optimization restart 1/5, f = 2.78692550993\n",
      "Optimization restart 2/5, f = 12.7704468249\n",
      "Optimization restart 3/5, f = 5.08939446909\n",
      "Optimization restart 4/5, f = 12.7704718533\n",
      "Optimization restart 5/5, f = 12.7704492016\n",
      "Optimization restart 1/5, f = -5.45063435767\n",
      "Optimization restart 2/5, f = -5.45065712979\n",
      "Optimization restart 3/5, f = 14.1893853874\n",
      "Optimization restart 4/5, f = 14.1893900416\n",
      "Optimization restart 5/5, f = -5.45065441228\n",
      "Optimization restart 1/5, f = -13.6100563596\n",
      "Optimization restart 2/5, f = -13.6100566749\n",
      "Optimization restart 3/5, f = -13.6100699366\n",
      "Optimization restart 4/5, f = -13.6100601026\n",
      "Optimization restart 5/5, f = 15.6083238912\n",
      "Optimization restart 1/5, f = -21.7243809958\n",
      "Optimization restart 2/5, f = -21.7292075631\n",
      "Optimization restart 3/5, f = -21.7243096705\n",
      "Optimization restart 4/5, f = -21.7292075803\n",
      "Optimization restart 5/5, f = -21.7292076077\n",
      "Optimization restart 1/5, f = -29.8282478258\n",
      "Optimization restart 2/5, f = -29.814748403\n",
      "Optimization restart 3/5, f = -29.8282469435\n",
      "Optimization restart 4/5, f = -29.814748864\n",
      "Optimization restart 5/5, f = -29.814747401\n",
      "Optimization restart 1/5, f = -37.9176706903\n",
      "Optimization restart 2/5, f = -37.8937734429\n",
      "Optimization restart 3/5, f = -37.9176713569\n",
      "Optimization restart 4/5, f = -37.9176702309\n",
      "Optimization restart 5/5, f = -37.543055428\n",
      "Optimization restart 1/5, f = -46.003595995\n",
      "Optimization restart 2/5, f = -46.0035957037\n",
      "Optimization restart 3/5, f = -46.0035966499\n",
      "Optimization restart 4/5, f = -46.003488567\n",
      "Optimization restart 5/5, f = -45.9686357716\n"
     ]
    }
   ],
   "source": [
    "# --- Stop conditions\n",
    "max_time  = None \n",
    "max_iter  = 10\n",
    "tolerance = 1e-8     # distance between two consecutive observations  \n",
    "\n",
    "# Run the optimization                                                  \n",
    "bo.run_optimization(max_iter = max_iter, max_time = max_time, eps = tolerance, verbose=False)"
   ]
  },
  {
   "cell_type": "code",
   "execution_count": 26,
   "metadata": {
    "collapsed": false,
    "scrolled": true
   },
   "outputs": [
    {
     "data": {
      "image/png": "[encoded data removed]",
      "text/plain": [
       "<matplotlib.figure.Figure at 0x7f235860ce10>"
      ]
     },
     "metadata": {},
     "output_type": "display_data"
    }
   ],
   "source": [
    "bo.plot_acquisition()"
   ]
  },
  {
   "cell_type": "code",
   "execution_count": 28,
   "metadata": {
    "collapsed": false
   },
   "outputs": [],
   "source": [
    "d =[{'type': 'continuous','domain':func.bounds[0],'dimensionality':1}]"
   ]
  },
  {
   "cell_type": "code",
   "execution_count": 27,
   "metadata": {
    "collapsed": false
   },
   "outputs": [
    {
     "data": {
      "text/plain": [
       "<GPyOpt.core.task.space.Design_space at 0x7f23585e21d0>"
      ]
     },
     "execution_count": 27,
     "metadata": {},
     "output_type": "execute_result"
    }
   ],
   "source": [
    "d."
   ]
  },
  {
   "cell_type": "code",
   "execution_count": null,
   "metadata": {
    "collapsed": true
   },
   "outputs": [],
   "source": []
  },
  {
   "cell_type": "code",
   "execution_count": 14,
   "metadata": {
    "collapsed": false
   },
   "outputs": [
    {
     "data": {
      "text/plain": [
       "array([[ 0.,  0.],\n",
       "       [ 0.,  0.],\n",
       "       [ 0.,  0.],\n",
       "       [ 0.,  0.],\n",
       "       [ 0.,  0.]])"
      ]
     },
     "execution_count": 14,
     "metadata": {},
     "output_type": "execute_result"
    }
   ],
   "source": [
    "cost(initial_design)"
   ]
  },
  {
   "cell_type": "code",
   "execution_count": null,
   "metadata": {
    "collapsed": true
   },
   "outputs": [],
   "source": []
  }
 ],
 "metadata": {
  "kernelspec": {
   "display_name": "Python 2",
   "language": "python",
   "name": "python2"
  },
  "language_info": {
   "codemirror_mode": {
    "name": "ipython",
    "version": 2
   },
   "file_extension": ".py",
   "mimetype": "text/x-python",
   "name": "python",
   "nbconvert_exporter": "python",
   "pygments_lexer": "ipython2",
   "version": "2.7.11"
  }
 },
 "nbformat": 4,
 "nbformat_minor": 0
}
