{
 "cells": [
  {
   "cell_type": "markdown",
   "metadata": {},
   "source": [
    "# GPyOpt: available surrogate models and acquisitions\n",
    "\n",
    "### Written by Javier Gonzalez, University of Sheffield.\n",
    "\n",
    "## Reference Manual index\n",
    "\n",
    "*Last updated Friday, 11 March 2016.*"
   ]
  },
  {
   "cell_type": "markdown",
   "metadata": {
    "collapsed": false
   },
   "source": [
    "### 1. Supported models\n",
    "\n",
    "The surrogate models supported in GPyOpt are:\n",
    "\n",
    "* **Standard Gaussian Processes** with standard MLE over the model hyperparameters: select ``model_type = GP`` in the GPyOpt wrapper.\n",
    "\n",
    "\n",
    "* **Standard Gaussian Processes with MCMC** sampling over the model hyperparameters: select ``model_type = GP_MCMC`` in the GPyOpt wrapper.\n",
    "\n",
    "\n",
    "* **Sparse Gaussian processes**: select ``model_type = sparseGP`` in the GPyOpt wrapper. \n",
    "\n",
    "\n",
    "* **Random Forrest**: select ``model_type = RF``. To illustrate GPyOpt modularity, we have also wrapped the random forrest method implemetented in Scikit-learn."
   ]
  },
  {
   "cell_type": "markdown",
   "metadata": {},
   "source": [
    "### 2. Supported acquisiitions\n",
    "\n",
    "The supported acquisition functions in GPyOpt are:\n",
    "\n",
    "* **Expected Improvement**: select ``acquisition_type = EI`` in the GPyOpt wrapper.\n",
    "\n",
    "\n",
    "* **Expected Improvement integrated over the model hyperparameters**: select ``acquisition_type = EI_MCMC`` in the GPyOpt wrapper. Only works if ``model_type`` is set to ``GP_MCMC``.\n",
    "\n",
    "\n",
    "* **Maximum Probability of Improvement**: select ``acquisition_type = MPI`` in the GPyOpt wrapper.\n",
    "\n",
    "\n",
    "* **Maximum Probability of Improvement integrated over the model hyperparameters**: select ``acquisition_type = MPI_MCMC`` in the GPyOpt wrapper. Only works if ``model_type`` is set to ``GP_MCMC``.\n",
    "\n",
    "\n",
    "* **GP-Lower confidence bound**: select ``acquisition_type = LCB`` in the GPyOpt wrapper.\n",
    "\n",
    "\n",
    "* **GP-Lower confidence bound integrated over the model hyperparameters**: select ``acquisition_type = LCB_MCMC`` in the GPyOpt wrapper. Only works if ``model_type`` is set to ``GP_MCMC``.\n",
    "\n",
    "\n"
   ]
  }
 ],
 "metadata": {
  "kernelspec": {
   "display_name": "Python [python2test]",
   "language": "python",
   "name": "Python [python2test]"
  },
  "language_info": {
   "codemirror_mode": {
    "name": "ipython",
    "version": 2
   },
   "file_extension": ".py",
   "mimetype": "text/x-python",
   "name": "python",
   "nbconvert_exporter": "python",
   "pygments_lexer": "ipython2",
   "version": "2.7.11"
  }
 },
 "nbformat": 4,
 "nbformat_minor": 0
}
