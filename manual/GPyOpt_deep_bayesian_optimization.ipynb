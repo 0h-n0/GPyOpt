{
 "cells": [
  {
   "cell_type": "markdown",
   "metadata": {},
   "source": [
    "# GPyOpt: Deep Bayesian Optimization "
   ]
  },
  {
   "cell_type": "markdown",
   "metadata": {},
   "source": [
    "In the [Introduction Bayesian Optimization GPyOpt](./GPyOpt_reference_manual.ipynb) we showed how GPyOpt can be used to solve optimization problems with some basic functionalities. The object \n",
    "\n",
    "```\n",
    "GPyOpt.methods.BayesianOptimization\n",
    "```\n",
    "is used to initialize the desired functionalities, such us the acquisition function, the initial design or the model. In some cases we want to have control over those objects and we may want to replace some element in the loop without having to integrate the new elements in the base code framework. This is now possible through the modular implementation of the package using the\n",
    "\n",
    "```\n",
    "GPyOpt.methods.ModularBayesianOptimization\n",
    "```\n",
    "\n",
    "As usual, we start loading GPy and GPyOpt."
   ]
  },
  {
   "cell_type": "code",
   "execution_count": 1,
   "metadata": {
    "collapsed": false
   },
   "outputs": [
    {
     "name": "stdout",
     "output_type": "stream",
     "text": [
      "Populating the interactive namespace from numpy and matplotlib\n"
     ]
    }
   ],
   "source": [
    "%pylab inline\n",
    "import GPyOpt\n",
    "import GPy\n",
    "import deepgp"
   ]
  },
  {
   "cell_type": "markdown",
   "metadata": {},
   "source": [
    "In this example we will use the Branin function as a test case."
   ]
  },
  {
   "cell_type": "code",
   "execution_count": null,
   "metadata": {
    "collapsed": false
   },
   "outputs": [],
   "source": [
    "# --- Function to optimize\n",
    "func  = GPyOpt.objective_examples.experiments2d.branin()\n",
    "func.plot()"
   ]
  },
  {
   "cell_type": "markdown",
   "metadata": {},
   "source": [
    "Because we are won't use the pre implemented wrapper, we need to create the classes for each element of the optimization. In total we need to create:\n",
    "\n",
    "* Class for the **objective function**,"
   ]
  },
  {
   "cell_type": "code",
   "execution_count": null,
   "metadata": {
    "collapsed": true
   },
   "outputs": [],
   "source": [
    "objective = GPyOpt.core.task.SingleObjective(func.f)"
   ]
  },
  {
   "cell_type": "markdown",
   "metadata": {},
   "source": [
    "* Class for the **design space**,"
   ]
  },
  {
   "cell_type": "code",
   "execution_count": null,
   "metadata": {
    "collapsed": true
   },
   "outputs": [],
   "source": [
    "space = GPyOpt.Design_space(space =[{'name': 'var_1', 'type': 'continuous', 'domain': (-5,10)},\n",
    "                                    {'name': 'var_2', 'type': 'continuous', 'domain': (1,15)}])"
   ]
  },
  {
   "cell_type": "markdown",
   "metadata": {},
   "source": [
    "* Class for the **model type**,"
   ]
  },
  {
   "cell_type": "code",
   "execution_count": null,
   "metadata": {
    "collapsed": false
   },
   "outputs": [],
   "source": [
    "modelGP = GPyOpt.models.GPModel(optimize_restarts=5,verbose=True)"
   ]
  },
  {
   "cell_type": "markdown",
   "metadata": {},
   "source": [
    "* Class for the **acquisition optimizer**,"
   ]
  },
  {
   "cell_type": "code",
   "execution_count": null,
   "metadata": {
    "collapsed": true
   },
   "outputs": [],
   "source": [
    "acquisition_optimizer = GPyOpt.optimization.AcquisitionOptimizer(space)"
   ]
  },
  {
   "cell_type": "markdown",
   "metadata": {},
   "source": [
    "* Class for the **initial design**,"
   ]
  },
  {
   "cell_type": "code",
   "execution_count": null,
   "metadata": {
    "collapsed": true
   },
   "outputs": [],
   "source": [
    "initial_design = GPyOpt.util.stats.initial_design('random', space, 5)"
   ]
  },
  {
   "cell_type": "code",
   "execution_count": null,
   "metadata": {
    "collapsed": false
   },
   "outputs": [],
   "source": [
    "cost = GPyOpt.core.task.cost.CostModel(None)\n",
    "acquisition_jitter=0.01"
   ]
  },
  {
   "cell_type": "code",
   "execution_count": null,
   "metadata": {
    "collapsed": false
   },
   "outputs": [],
   "source": [
    "acquisition = GPyOpt.acquisitions.AcquisitionEI(modelGP, space, acquisition_optimizer, cost.cost_withGradients, acquisition_jitter)"
   ]
  },
  {
   "cell_type": "markdown",
   "metadata": {},
   "source": [
    "* Finally we create the class for the **type of evaluator**,"
   ]
  },
  {
   "cell_type": "code",
   "execution_count": null,
   "metadata": {
    "collapsed": true
   },
   "outputs": [],
   "source": [
    "evaluator = GPyOpt.core.evaluators.Sequential(acquisition)"
   ]
  },
  {
   "cell_type": "markdown",
   "metadata": {},
   "source": [
    "With all the classes on place,including the one we have created for this example, we can now create the **Bayesian optimization object**."
   ]
  },
  {
   "cell_type": "code",
   "execution_count": null,
   "metadata": {
    "collapsed": false,
    "scrolled": true
   },
   "outputs": [],
   "source": [
    "bo = GPyOpt.methods.ModularBayesianOptimization(modelGP, space, objective, acquisition, evaluator, initial_design)\n",
    "print bo.model.model"
   ]
  },
  {
   "cell_type": "markdown",
   "metadata": {},
   "source": [
    "And we run the optimization."
   ]
  },
  {
   "cell_type": "code",
   "execution_count": null,
   "metadata": {
    "collapsed": false,
    "scrolled": true
   },
   "outputs": [],
   "source": [
    "max_iter  = 20                                            \n",
    "bo.run_optimization(max_iter = max_iter) "
   ]
  },
  {
   "cell_type": "markdown",
   "metadata": {},
   "source": [
    "We plot the acquisition and the diagnostic plots."
   ]
  },
  {
   "cell_type": "code",
   "execution_count": null,
   "metadata": {
    "collapsed": false
   },
   "outputs": [],
   "source": [
    "bo.plot_acquisition()\n",
    "bo.plot_convergence()"
   ]
  },
  {
   "cell_type": "code",
   "execution_count": null,
   "metadata": {
    "collapsed": true
   },
   "outputs": [],
   "source": []
  },
  {
   "cell_type": "code",
   "execution_count": null,
   "metadata": {
    "collapsed": true
   },
   "outputs": [],
   "source": []
  },
  {
   "cell_type": "markdown",
   "metadata": {},
   "source": [
    "# DeepGp"
   ]
  },
  {
   "cell_type": "code",
   "execution_count": 2,
   "metadata": {
    "collapsed": false
   },
   "outputs": [],
   "source": [
    "func  = GPyOpt.objective_examples.experiments2d.branin()\n",
    "objective = GPyOpt.core.task.SingleObjective(func.f)\n",
    "space = GPyOpt.Design_space(space =[{'name': 'var_1', 'type': 'continuous', 'domain': (-5,10)},\n",
    "                                    {'name': 'var_2', 'type': 'continuous', 'domain': (1,15)}])\n",
    "acquisition_optimizer = GPyOpt.optimization.AcquisitionOptimizer(space)\n",
    "initial_design = GPyOpt.util.stats.initial_design('random', space, 5)\n",
    "cost = GPyOpt.core.task.cost.CostModel(None)\n",
    "acquisition_jitter=0.01"
   ]
  },
  {
   "cell_type": "code",
   "execution_count": 6,
   "metadata": {
    "collapsed": false
   },
   "outputs": [
    {
     "name": "stdout",
     "output_type": "stream",
     "text": [
      "SNR layer 0:[ 37.102074]\n",
      "SNR layer 1:[ 2005.50629473]\n",
      "** GPyOpt Bayesian Optimization class initialized succesfuly **\n",
      "<GPyOpt.models.deepgpmodel.DeepGPModel object at 0xa8746eac>\n"
     ]
    }
   ],
   "source": [
    "modelDeepGP = GPyOpt.models.DeepGPModel(optimize_restarts=0,max_iters=0, max_init_iters = 1000, verbose=True,back_constraint=False, repeatX=False, num_inducing=8)\n",
    "\n",
    "acquisition = GPyOpt.acquisitions.AcquisitionEI(modelDeepGP, space, acquisition_optimizer, cost.cost_withGradients, acquisition_jitter)\n",
    "evaluator = GPyOpt.core.evaluators.Sequential(acquisition)\n",
    "boDeepGP = GPyOpt.methods.ModularBayesianOptimization(modelDeepGP, space, objective, acquisition, evaluator, initial_design)\n",
    "print boDeepGP.model\n"
   ]
  },
  {
   "cell_type": "code",
   "execution_count": null,
   "metadata": {
    "collapsed": true
   },
   "outputs": [],
   "source": []
  },
  {
   "cell_type": "code",
   "execution_count": 9,
   "metadata": {
    "collapsed": false
   },
   "outputs": [
    {
     "name": "stdout",
     "output_type": "stream",
     "text": [
      "SNR layer 0:[ 1.00026481]\n",
      "SNR layer 1:[  4.54051619e-10]\n",
      "SNR layer 0:[ 1.0001567]\n",
      "SNR layer 1:[  1.09441707e-09]\n",
      "SNR layer 0:[ 9.52145549]\n",
      "SNR layer 1:[ 2.43267988]\n",
      "   ** Two equal location selected **\n"
     ]
    }
   ],
   "source": [
    "# Two loops: one with only fixed beta, one with both\n",
    "\n",
    "boDeepGP.model.max_init_iters = 1000\n",
    "boDeepGP.model.max_iters = 0\n",
    "max_iter  = 3                                            \n",
    "boDeepGP.run_optimization(max_iter = max_iter) \n",
    "\n",
    "boDeepGP.model.max_init_iters = 200\n",
    "boDeepGP.model.max_iters = 800\n",
    "max_iter  = 3                                            \n",
    "boDeepGP.run_optimization(max_iter = max_iter) "
   ]
  },
  {
   "cell_type": "code",
   "execution_count": 10,
   "metadata": {
    "collapsed": false
   },
   "outputs": [
    {
     "data": {
      "image/png": "[encoded data removed]",
      "text/plain": [
       "<matplotlib.figure.Figure at 0xa86ad98c>"
      ]
     },
     "metadata": {},
     "output_type": "display_data"
    }
   ],
   "source": [
    "# boDeepGP.plot_acquisition()\n",
    "boDeepGP.plot_convergence()"
   ]
  },
  {
   "cell_type": "code",
   "execution_count": null,
   "metadata": {
    "collapsed": true
   },
   "outputs": [],
   "source": []
  }
 ],
 "metadata": {
  "kernelspec": {
   "display_name": "Python 2",
   "language": "python",
   "name": "python2"
  },
  "language_info": {
   "codemirror_mode": {
    "name": "ipython",
    "version": 2
   },
   "file_extension": ".py",
   "mimetype": "text/x-python",
   "name": "python",
   "nbconvert_exporter": "python",
   "pygments_lexer": "ipython2",
   "version": "2.7.11"
  }
 },
 "nbformat": 4,
 "nbformat_minor": 0
}
