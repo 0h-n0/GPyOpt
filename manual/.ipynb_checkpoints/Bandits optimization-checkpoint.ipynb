{
 "cells": [
  {
   "cell_type": "markdown",
   "metadata": {},
   "source": [
    "## Armed bandit optimization"
   ]
  },
  {
   "cell_type": "code",
   "execution_count": 1,
   "metadata": {
    "collapsed": false
   },
   "outputs": [
    {
     "name": "stdout",
     "output_type": "stream",
     "text": [
      "Populating the interactive namespace from numpy and matplotlib\n",
      "-----\n",
      "----- Running demo. It may take a few seconds.\n",
      "-----\n"
     ]
    }
   ],
   "source": [
    "%pylab inline\n",
    "import GPyOpt\n",
    "from numpy.random import seed\n",
    "import matplotlib.pylab as plt\n",
    "from GPyOpt.util.general import samples_multidimensional_uniform\n",
    "seed(1234)\n",
    "        \n",
    "# --- Fucntion to optimize\n",
    "func  = GPyOpt.objective_examples.experiments2d.sixhumpcamel() \n",
    "\n",
    "bandit = samples_multidimensional_uniform([(-1,1),(-1,1)],200)\n",
    "\n",
    "# --- Space design (two alternative ways of defining a bandit)\n",
    "space = GPyOpt.Design_space(space =[{'name': 'var_1', 'type': 'bandit', 'domain': bandit}])\n",
    "#space = GPyOpt.Design_space(space =[{'name': 'var_1', 'type': 'discrete', 'domain': (0,0.3,0.5)},\n",
    "#                                    {'name': 'var_2', 'type': 'discrete', 'domain': (-1,0,1,2)}])\n",
    "\n",
    "# --- Objective\n",
    "objective = GPyOpt.core.task.SingleObjective(func.f, space)\n",
    "\n",
    "# --- CHOOSE the model type\n",
    "model = GPyOpt.models.GPModel(optimize_restarts=5,verbose=False)\n",
    "\n",
    "# --- CHOOSE the acquisition optimizer\n",
    "aquisition_optimizer = GPyOpt.optimization.AcquisitionOptimizer(space)\n",
    "\n",
    "# --- CHOOSE the type of acquisition\n",
    "acquisition = GPyOpt.acquisitions.AcquisitionEI(model, space, optimizer=aquisition_optimizer)\n",
    "\n",
    "# --- CHOOSE the intial design\n",
    "initial_design = GPyOpt.util.stats.initial_design('random', space, 10)\n",
    "\n",
    "\n",
    "# BO object\n",
    "bo = GPyOpt.core.BO(model, space, objective, acquisition, initial_design)\n",
    "\n",
    "print '-----'\n",
    "print '----- Running demo. It may take a few seconds.'\n",
    "print '-----'\n",
    "\n",
    "# --- Stop conditions\n",
    "max_time  = None \n",
    "max_iter  = 5\n",
    "tolerance = 1e-8     # distance between two consecutive observations  \n",
    "\n",
    "# Run the optimization                                                  \n",
    "bo.run_optimization(max_iter = max_iter, max_time = max_time, eps = tolerance, verbose=False) \n",
    "#bo.plot_acquisition()"
   ]
  },
  {
   "cell_type": "code",
   "execution_count": 17,
   "metadata": {
    "collapsed": false
   },
   "outputs": [
    {
     "data": {
      "text/plain": [
       "False"
      ]
     },
     "execution_count": 17,
     "metadata": {},
     "output_type": "execute_result"
    }
   ],
   "source": [
    "space.has_types['bandit'] and (space.has_types['continuous'] or space.has_types['discrete'])"
   ]
  },
  {
   "cell_type": "code",
   "execution_count": 16,
   "metadata": {
    "collapsed": false
   },
   "outputs": [
    {
     "data": {
      "text/plain": [
       "{'bandit': True, 'continuous': False, 'discrete': False}"
      ]
     },
     "execution_count": 16,
     "metadata": {},
     "output_type": "execute_result"
    }
   ],
   "source": [
    "space.has_types"
   ]
  },
  {
   "cell_type": "code",
   "execution_count": 20,
   "metadata": {
    "collapsed": false
   },
   "outputs": [],
   "source": [
    "arms = space.get_bandit()"
   ]
  },
  {
   "cell_type": "code",
   "execution_count": 26,
   "metadata": {
    "collapsed": false
   },
   "outputs": [
    {
     "data": {
      "text/plain": [
       "array([7, 2, 6, 6, 2, 2, 0, 1, 1, 3, 8, 3, 3, 2, 5, 9, 5, 4, 6, 9])"
      ]
     },
     "execution_count": 26,
     "metadata": {},
     "output_type": "execute_result"
    }
   ],
   "source": [
    "np.random.randint(arms.shape[0],size=20)"
   ]
  },
  {
   "cell_type": "code",
   "execution_count": null,
   "metadata": {
    "collapsed": true
   },
   "outputs": [],
   "source": []
  }
 ],
 "metadata": {
  "kernelspec": {
   "display_name": "Python 2",
   "language": "python",
   "name": "python2"
  },
  "language_info": {
   "codemirror_mode": {
    "name": "ipython",
    "version": 2
   },
   "file_extension": ".py",
   "mimetype": "text/x-python",
   "name": "python",
   "nbconvert_exporter": "python",
   "pygments_lexer": "ipython2",
   "version": "2.7.10"
  }
 },
 "nbformat": 4,
 "nbformat_minor": 0
}
