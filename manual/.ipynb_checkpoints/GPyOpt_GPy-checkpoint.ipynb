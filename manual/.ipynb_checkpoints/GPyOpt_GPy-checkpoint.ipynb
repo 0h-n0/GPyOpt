{
 "cells": [
  {
   "cell_type": "markdown",
   "metadata": {},
   "source": [
    "# GPyOpt: configuring a GPy model :)\n",
    "\n",
    "### Written by Javier Gonzalez, Zhenwen Dai and Zwiessele, University of Sheffield.\n",
    "\n",
    "*Last updated Tuesday, 3 Jun 2016.*"
   ]
  },
  {
   "cell_type": "markdown",
   "metadata": {},
   "source": [
    "The goal of this notebook is to use GPyOpt to tune the parameters of Machine Learning algorithms. In particular, we will shows how to tune the hyper-parameters for GPy models."
   ]
  },
  {
   "cell_type": "markdown",
   "metadata": {},
   "source": [
    "We start loading the requires modules."
   ]
  },
  {
   "cell_type": "code",
   "execution_count": 1,
   "metadata": {
    "collapsed": false
   },
   "outputs": [
    {
     "name": "stdout",
     "output_type": "stream",
     "text": [
      "Populating the interactive namespace from numpy and matplotlib\n",
      "warning in stationary: failed to import cython module: falling back to numpy\n"
     ]
    },
    {
     "name": "stderr",
     "output_type": "stream",
     "text": [
      "Vendor:  Continuum Analytics, Inc.\n",
      "Package: mkl\n",
      "Message: trial mode expires in 20 days\n"
     ]
    }
   ],
   "source": [
    "%pylab inline  \n",
    "import GPy\n",
    "import GPyOpt\n",
    "import numpy as np\n",
    "from sklearn import svm\n",
    "from numpy.random import seed\n",
    "seed(12345)"
   ]
  },
  {
   "cell_type": "markdown",
   "metadata": {
    "collapsed": true
   },
   "source": [
    "For this example we will use the Olympic marathon dataset available in GPy. \n",
    "We split the original dataset into the training data (first 20 data points) and testing data (last 7 data points). "
   ]
  },
  {
   "cell_type": "code",
   "execution_count": 11,
   "metadata": {
    "collapsed": false
   },
   "outputs": [],
   "source": [
    "# Let's load the dataset\n",
    "GPy.util.datasets.authorize_download = lambda x: True # prevents requesting authorization for download.\n",
    "data = GPy.util.datasets.olympic_marathon_men()\n",
    "X = data['X']\n",
    "Y = data['Y']\n",
    "X_train = X[:20]\n",
    "Y_train = Y[:20]\n",
    "X_test = X[20:]\n",
    "Y_test = Y[20:]"
   ]
  },
  {
   "cell_type": "markdown",
   "metadata": {},
   "source": [
    "Let's first create a GPy model."
   ]
  },
  {
   "cell_type": "code",
   "execution_count": 157,
   "metadata": {
    "collapsed": false
   },
   "outputs": [
    {
     "name": "stdout",
     "output_type": "stream",
     "text": [
      "\n",
      "Name : GP regression\n",
      "Objective : 38.8853678617\n",
      "Number of Parameters : 5\n",
      "Number of Optimization Parameters : 5\n",
      "Updates : True\n",
      "Parameters:\n",
      "  \u001b[1mGP_regression.         \u001b[0;0m  |  value  |  constraints  |  priors\n",
      "  \u001b[1msum.Mat32.variance     \u001b[0;0m  |    2.0  |      +ve      |        \n",
      "  \u001b[1msum.Mat32.lengthscale  \u001b[0;0m  |    1.0  |      +ve      |        \n",
      "  \u001b[1msum.linear.variances   \u001b[0;0m  |    1.0  |      +ve      |        \n",
      "  \u001b[1msum.bias.variance      \u001b[0;0m  |    5.0  |      +ve      |        \n",
      "  \u001b[1mGaussian_noise.variance\u001b[0;0m  |    1.0  |      +ve      |        \n"
     ]
    }
   ],
   "source": [
    "from GPy.models import GPRegression\n",
    "\n",
    "k = GPy.kern.Matern32(1, variance=2, lengthscale=1)\\\n",
    "+GPy.kern.Linear(1, variances=1)\\\n",
    "+GPy.kern.Bias(1, variance=5)\n",
    "\n",
    "m = GPRegression(X_train, Y_train, \n",
    "                 kernel=k,\n",
    "                 normalizer=True,\n",
    "                )\n",
    "print m\n",
    "\n",
    "Y_train_pred, Y_train_pred_var = m.predict(X_train)\n",
    "Y_test_pred, Y_test_pred_var = m.predict(X_test)"
   ]
  },
  {
   "cell_type": "markdown",
   "metadata": {},
   "source": [
    "Does not give an OK fit to the training data but completely miss out the testing data well."
   ]
  },
  {
   "cell_type": "code",
   "execution_count": 160,
   "metadata": {
    "collapsed": false
   },
   "outputs": [
    {
     "data": {
      "text/plain": [
       "<matplotlib.legend.Legend at 0x7f19c9a192d0>"
      ]
     },
     "execution_count": 160,
     "metadata": {},
     "output_type": "execute_result"
    },
    {
     "data": {
      "image/png": "[encoded data removed]",
      "text/plain": [
       "<matplotlib.figure.Figure at 0x7f19c9b41990>"
      ]
     },
     "metadata": {},
     "output_type": "display_data"
    }
   ],
   "source": [
    "plot(X_train,Y_train_pred,'b',label='pred-train')\n",
    "plot(X_test,Y_test_pred,'g',label='pred-test')\n",
    "\n",
    "plot(X_train,Y_train,'rx',label='ground truth')\n",
    "plot(X_test,Y_test,'rx')\n",
    "legend(loc='best')"
   ]
  },
  {
   "cell_type": "markdown",
   "metadata": {},
   "source": [
    "Now let's try Bayesian Optimization."
   ]
  },
  {
   "cell_type": "code",
   "execution_count": 161,
   "metadata": {
    "collapsed": false
   },
   "outputs": [
    {
     "data": {
      "text/plain": [
       "['sum.Mat32.variance',\n",
       " 'sum.Mat32.lengthscale',\n",
       " 'sum.linear.variances',\n",
       " 'sum.bias.variance',\n",
       " 'Gaussian_noise.variance']"
      ]
     },
     "execution_count": 161,
     "metadata": {},
     "output_type": "execute_result"
    }
   ],
   "source": [
    "m.parameter_names()"
   ]
  },
  {
   "cell_type": "code",
   "execution_count": 134,
   "metadata": {
    "collapsed": false
   },
   "outputs": [],
   "source": [
    "domain = [\n",
    "{'name': 'Mat32.variance',          'type': 'continuous', 'domain': (1,4.)},\n",
    "{'name': 'Mat32.lengthscale',       'type': 'continuous', 'domain': (50.,150.)},\n",
    "{'name': 'Linear.variances',        'type': 'continuous', 'domain': (1e-5,6)},\n",
    "{'name': 'Bias.variance',           'type': 'continuous', 'domain': (1e-5,6)},\n",
    "{'name': 'Gaussian_noise.variance', 'type': 'continuous', 'domain': (1e-5,4.)}\n",
    "]"
   ]
  },
  {
   "cell_type": "markdown",
   "metadata": {},
   "source": [
    "We, then, create the GPyOpt object and run the optimization procedure. It might take a while."
   ]
  },
  {
   "cell_type": "code",
   "execution_count": 135,
   "metadata": {
    "collapsed": true
   },
   "outputs": [],
   "source": [
    "def f_lik(x):\n",
    "    m[:] = x\n",
    "    return m.objective_function()"
   ]
  },
  {
   "cell_type": "code",
   "execution_count": 147,
   "metadata": {
    "collapsed": false
   },
   "outputs": [
    {
     "name": "stdout",
     "output_type": "stream",
     "text": [
      "WARNING: reconstraining parameters GP_regression.rbf\n",
      "WARNING: reconstraining parameters GP_regression.Gaussian_noise.variance\n",
      "** GPyOpt Bayesian Optimization class initialized succesfuly **\n"
     ]
    }
   ],
   "source": [
    "opt = GPyOpt.methods.BayesianOptimization(f = f_lik,            # function to optimize       \n",
    "                                          domain = domain,\n",
    "                                          model_type= 'GP_MCMC',# box-constrains of the problem\n",
    "                                          acquisition_type ='EI_MCMC',       # LCB acquisition\n",
    "                                          acquisition_jitter = 0.1)   # Exploration exploitation"
   ]
  },
  {
   "cell_type": "code",
   "execution_count": 148,
   "metadata": {
    "collapsed": false,
    "scrolled": true
   },
   "outputs": [
    {
     "name": "stdout",
     "output_type": "stream",
     "text": [
      "   ** Maximum number of iterations reached **\n"
     ]
    },
    {
     "data": {
      "image/png": "[encoded data removed]",
      "text/plain": [
       "<matplotlib.figure.Figure at 0x7f19cb08e810>"
      ]
     },
     "metadata": {},
     "output_type": "display_data"
    }
   ],
   "source": [
    "# it may take a few seconds\n",
    "opt.run_optimization(max_iter=50)\n",
    "opt.plot_convergence()"
   ]
  },
  {
   "cell_type": "markdown",
   "metadata": {},
   "source": [
    "Let's show the best parameters found. They differ significantly from the default parameters."
   ]
  },
  {
   "cell_type": "code",
   "execution_count": 149,
   "metadata": {
    "collapsed": false
   },
   "outputs": [
    {
     "name": "stdout",
     "output_type": "stream",
     "text": [
      "The best model found:\n",
      "\n",
      "Name : GP regression\n",
      "Objective : 23.4233792457\n",
      "Number of Parameters : 5\n",
      "Number of Optimization Parameters : 5\n",
      "Updates : True\n",
      "Parameters:\n",
      "  \u001b[1mGP_regression.         \u001b[0;0m  |           value  |  constraints  |  priors\n",
      "  \u001b[1msum.Mat32.variance     \u001b[0;0m  |             4.0  |      +ve      |        \n",
      "  \u001b[1msum.Mat32.lengthscale  \u001b[0;0m  |   114.269541031  |      +ve      |        \n",
      "  \u001b[1msum.linear.variances   \u001b[0;0m  |   2.14403934229  |      +ve      |        \n",
      "  \u001b[1msum.bias.variance      \u001b[0;0m  |    4.5365598091  |      +ve      |        \n",
      "  \u001b[1mGaussian_noise.variance\u001b[0;0m  |  0.407834178548  |      +ve      |        \n"
     ]
    }
   ],
   "source": [
    "x_best = opt.X[np.argmin(opt.Y)].copy()\n",
    "\n",
    "m[:] = x_best\n",
    "\n",
    "print \"The best model found:\"\n",
    "print m\n",
    "\n",
    "Y_train_pred, Y_train_pred_var = m.predict(X_train)\n",
    "Y_test_pred, Y_test_pred_var = m.predict(X_test)"
   ]
  },
  {
   "cell_type": "markdown",
   "metadata": {},
   "source": [
    "We can see SVR does a reasonable fit to the data. The result could be further improved by increasing the *max_iter*. "
   ]
  },
  {
   "cell_type": "code",
   "execution_count": 150,
   "metadata": {
    "collapsed": false
   },
   "outputs": [
    {
     "name": "stdout",
     "output_type": "stream",
     "text": [
      "RMSE = 0.0543651517608\n"
     ]
    },
    {
     "data": {
      "image/png": "[encoded data removed]",
      "text/plain": [
       "<matplotlib.figure.Figure at 0x7f19c97716d0>"
      ]
     },
     "metadata": {},
     "output_type": "display_data"
    }
   ],
   "source": [
    "plot(X_train,Y_train_pred,'b',label='pred-train')\n",
    "plot(X_test,Y_test_pred,'g',label='pred-test')\n",
    "\n",
    "plot(X_train,Y_train,'rx',label='ground truth')\n",
    "plot(X_test,Y_test,'rx')\n",
    "legend(loc='best')"
   ]
  },
  {
   "cell_type": "code",
   "execution_count": 163,
   "metadata": {
    "collapsed": true
   },
   "outputs": [],
   "source": [
    "m[:] = opt.X[0].copy()"
   ]
  },
  {
   "cell_type": "code",
   "execution_count": 164,
   "metadata": {
    "collapsed": true
   },
   "outputs": [],
   "source": [
    "m.optimize()"
   ]
  },
  {
   "cell_type": "code",
   "execution_count": 165,
   "metadata": {
    "collapsed": false
   },
   "outputs": [
    {
     "data": {
      "text/plain": [
       "<matplotlib.legend.Legend at 0x7f19c9634d50>"
      ]
     },
     "execution_count": 165,
     "metadata": {},
     "output_type": "execute_result"
    },
    {
     "data": {
      "image/png": "[encoded data removed]",
      "text/plain": [
       "<matplotlib.figure.Figure at 0x7f19c9cab450>"
      ]
     },
     "metadata": {},
     "output_type": "display_data"
    }
   ],
   "source": [
    "Y_train_pred, Y_train_pred_var = m.predict(X_train)\n",
    "Y_test_pred, Y_test_pred_var = m.predict(X_test)\n",
    "\n",
    "plot(X_train,Y_train_pred,'b',label='pred-train')\n",
    "plot(X_test,Y_test_pred,'g',label='pred-test')\n",
    "\n",
    "plot(X_train,Y_train,'rx',label='ground truth')\n",
    "plot(X_test,Y_test,'rx')\n",
    "legend(loc='best')"
   ]
  },
  {
   "cell_type": "code",
   "execution_count": null,
   "metadata": {
    "collapsed": true
   },
   "outputs": [],
   "source": []
  }
 ],
 "metadata": {
  "kernelspec": {
   "display_name": "Python 2",
   "language": "python",
   "name": "python2"
  },
  "language_info": {
   "codemirror_mode": {
    "name": "ipython",
    "version": 2
   },
   "file_extension": ".py",
   "mimetype": "text/x-python",
   "name": "python",
   "nbconvert_exporter": "python",
   "pygments_lexer": "ipython2",
   "version": "2.7.11"
  }
 },
 "nbformat": 4,
 "nbformat_minor": 0
}
