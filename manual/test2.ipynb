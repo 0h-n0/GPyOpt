{
 "cells": [
  {
   "cell_type": "markdown",
   "metadata": {},
   "source": [
    "# GPyOpt: parallel Bayesian optimization\n",
    "\n",
    "### Written by Javier Gonzalez, University of Sheffield.\n",
    "\n",
    "*Last updated Tuesday, 15 March 2016.*"
   ]
  },
  {
   "cell_type": "code",
   "execution_count": 10,
   "metadata": {
    "collapsed": false
   },
   "outputs": [
    {
     "name": "stdout",
     "output_type": "stream",
     "text": [
      "Populating the interactive namespace from numpy and matplotlib\n"
     ]
    }
   ],
   "source": [
    "%pylab inline  \n",
    "import GPyOpt"
   ]
  },
  {
   "cell_type": "markdown",
   "metadata": {},
   "source": [
    "As in previous examples we use a synthetic objective function but you can think about doing the same with any function you like. In this case, we use the Branin function. For the optimization we will perturb the evaluations with Gaussian noise with sd = 0.1."
   ]
  },
  {
   "cell_type": "code",
   "execution_count": 11,
   "metadata": {
    "collapsed": false
   },
   "outputs": [],
   "source": [
    "# --- Objective function\n",
    "objective_true  = GPyOpt.objective_examples.experiments1d.forrester()                 # true function\n",
    "bounds = objective_true.bounds        "
   ]
  },
  {
   "cell_type": "code",
   "execution_count": 12,
   "metadata": {
    "collapsed": false
   },
   "outputs": [
    {
     "data": {
      "text/plain": [
       "(0, 1)"
      ]
     },
     "execution_count": 12,
     "metadata": {},
     "output_type": "execute_result"
    }
   ],
   "source": [
    "bounds[0]"
   ]
  },
  {
   "cell_type": "code",
   "execution_count": 13,
   "metadata": {
    "collapsed": true
   },
   "outputs": [],
   "source": [
    "domain = [{'name': 'var_1', 'type': 'continuous', 'domain': bounds[0]}]"
   ]
  },
  {
   "cell_type": "code",
   "execution_count": 14,
   "metadata": {
    "collapsed": false
   },
   "outputs": [
    {
     "data": {
      "image/png": "[encoded data removed]",
      "text/plain": [
       "<matplotlib.figure.Figure at 0x7fb5c9e408d0>"
      ]
     },
     "metadata": {},
     "output_type": "display_data"
    }
   ],
   "source": [
    "objective_true.plot()"
   ]
  },
  {
   "cell_type": "markdown",
   "metadata": {},
   "source": [
    "As in previous cases, we create a GPyOpt object with the desing space and fucntion to optimize. In this case we need to select the evaluator type, which in this case is the *local penalization method* the batch size and the number of cores that we want to use. The evaluation of the function will be splitted accross the available cores."
   ]
  },
  {
   "cell_type": "code",
   "execution_count": 15,
   "metadata": {
    "collapsed": true
   },
   "outputs": [],
   "source": [
    "batch_size = 3\n",
    "num_cores = 2"
   ]
  },
  {
   "cell_type": "code",
   "execution_count": 16,
   "metadata": {
    "collapsed": false
   },
   "outputs": [
    {
     "name": "stdout",
     "output_type": "stream",
     "text": [
      "** GPyOpt Bayesian Optimization class initialized succesfuly **\n"
     ]
    }
   ],
   "source": [
    "from numpy.random import seed\n",
    "seed(123)\n",
    "BO_demo_parallel = GPyOpt.methods.BayesianOptimization(f=objective_true.f,  \n",
    "                                            domain = domain,                  \n",
    "                                            acquisition_type = 'EI',              \n",
    "                                            normalize_Y = False,\n",
    "                                            initial_design_numdata = 10,\n",
    "                                            evaluator_type = 'local_penalization',\n",
    "                                            batch_size = batch_size,\n",
    "                                            num_cores = num_cores,\n",
    "                                            exact_feval = True,\n",
    "                                            acquisition_jitter = 0)    "
   ]
  },
  {
   "cell_type": "code",
   "execution_count": 8,
   "metadata": {
    "collapsed": false
   },
   "outputs": [
    {
     "data": {
      "text/plain": [
       "(array([[ -4.45162646],\n",
       "        [ -0.04302052],\n",
       "        [ -0.39078442],\n",
       "        [  0.85856795],\n",
       "        [ -5.35098625],\n",
       "        [  0.25551069],\n",
       "        [ 15.03576382],\n",
       "        [ -3.91511526],\n",
       "        [  0.76857864],\n",
       "        [  0.08065485]]),\n",
       " [7.200241088867188e-05,\n",
       "  4.291534423828125e-05,\n",
       "  3.886222839355469e-05,\n",
       "  4.00543212890625e-05,\n",
       "  4.220008850097656e-05,\n",
       "  3.886222839355469e-05,\n",
       "  3.695487976074219e-05,\n",
       "  3.695487976074219e-05,\n",
       "  3.790855407714844e-05,\n",
       "  3.719329833984375e-05])"
      ]
     },
     "execution_count": 8,
     "metadata": {},
     "output_type": "execute_result"
    }
   ],
   "source": [
    "BO_demo_parallel.objective._single_evaluation(BO_demo_parallel.X)"
   ]
  },
  {
   "cell_type": "code",
   "execution_count": 9,
   "metadata": {
    "collapsed": false
   },
   "outputs": [
    {
     "data": {
      "text/plain": [
       "(array([[ -4.45162646],\n",
       "        [ -0.04302052],\n",
       "        [ -0.39078442],\n",
       "        [  0.85856795],\n",
       "        [ -5.35098625],\n",
       "        [  0.25551069],\n",
       "        [ 15.03576382],\n",
       "        [ -3.91511526],\n",
       "        [  0.76857864],\n",
       "        [  0.08065485]]), array([[ 1.],\n",
       "        [ 1.],\n",
       "        [ 1.],\n",
       "        [ 1.],\n",
       "        [ 1.],\n",
       "        [ 1.],\n",
       "        [ 1.],\n",
       "        [ 1.],\n",
       "        [ 1.],\n",
       "        [ 1.]]))"
      ]
     },
     "execution_count": 9,
     "metadata": {},
     "output_type": "execute_result"
    }
   ],
   "source": [
    "BO_demo_parallel.objective._syncronous_batch_evaluation(BO_demo_parallel.X)"
   ]
  },
  {
   "cell_type": "markdown",
   "metadata": {},
   "source": [
    "We will optimize this function by running 10 parallel evaluations in 3 cores of our machine. "
   ]
  },
  {
   "cell_type": "code",
   "execution_count": null,
   "metadata": {
    "collapsed": false,
    "scrolled": true
   },
   "outputs": [],
   "source": [
    "# --- Run the optimization for 10 iterations\n",
    "max_iter = 1                                                    \n",
    "BO_demo_parallel.run_optimization(max_iter)"
   ]
  },
  {
   "cell_type": "markdown",
   "metadata": {},
   "source": [
    "We plot the resutls. Observe that the final number of evaluations that we will make is $10*4=40$. "
   ]
  },
  {
   "cell_type": "code",
   "execution_count": 17,
   "metadata": {
    "collapsed": false
   },
   "outputs": [
    {
     "data": {
      "image/png": "[encoded data removed]",
      "text/plain": [
       "<matplotlib.figure.Figure at 0x7fb5c8ec11d0>"
      ]
     },
     "metadata": {},
     "output_type": "display_data"
    }
   ],
   "source": [
    "BO_demo_parallel.plot_acquisition()"
   ]
  },
  {
   "cell_type": "code",
   "execution_count": 12,
   "metadata": {
    "collapsed": false
   },
   "outputs": [
    {
     "data": {
      "text/plain": [
       "array([[  3.29813697,   1.        ],\n",
       "       [  3.03426125,   2.06620923],\n",
       "       [ -3.01557796,  15.        ],\n",
       "       [  3.03250892,   2.17951741]])"
      ]
     },
     "execution_count": 12,
     "metadata": {},
     "output_type": "execute_result"
    }
   ],
   "source": [
    "BO_demo_parallel.suggested_sample"
   ]
  },
  {
   "cell_type": "markdown",
   "metadata": {},
   "source": [
    "See how the method explores the space using the four parallel evaluations of $f$ and it is able to identify the location of the three minima. "
   ]
  },
  {
   "cell_type": "code",
   "execution_count": 24,
   "metadata": {
    "collapsed": false
   },
   "outputs": [
    {
     "data": {
      "text/plain": [
       "[(-3.141592653589793, 12.275), (3.141592653589793, 2.275), (9.42478, 2.475)]"
      ]
     },
     "execution_count": 24,
     "metadata": {},
     "output_type": "execute_result"
    }
   ],
   "source": [
    "objective_noisy.min"
   ]
  },
  {
   "cell_type": "code",
   "execution_count": null,
   "metadata": {
    "collapsed": true
   },
   "outputs": [],
   "source": []
  }
 ],
 "metadata": {
  "kernelspec": {
   "display_name": "Python 2",
   "language": "python",
   "name": "python2"
  },
  "language_info": {
   "codemirror_mode": {
    "name": "ipython",
    "version": 2
   },
   "file_extension": ".py",
   "mimetype": "text/x-python",
   "name": "python",
   "nbconvert_exporter": "python",
   "pygments_lexer": "ipython2",
   "version": "2.7.11"
  }
 },
 "nbformat": 4,
 "nbformat_minor": 0
}
