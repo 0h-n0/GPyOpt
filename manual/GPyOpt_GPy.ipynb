{
 "cells": [
  {
   "cell_type": "markdown",
   "metadata": {},
   "source": [
    "# GPyOpt: configuring a GPy model :)\n",
    "\n",
    "### Written by Javier Gonzalez, Zhenwen Dai and Max Zwiessele, University of Sheffield.\n",
    "\n",
    "*Last updated Tuesday, 3 Jun 2016.*"
   ]
  },
  {
   "cell_type": "markdown",
   "metadata": {},
   "source": [
    "In this notebook we are going to create a [black hole](https://en.wikipedia.org/wiki/Black_hole) of Gaussian process that will collapse the entire machine learinig universe: We will configure a GPy model using GPyOpt by using a GPy model as surrogate model for the likelihood of original GPy model."
   ]
  },
  {
   "cell_type": "code",
   "execution_count": 1,
   "metadata": {
    "collapsed": false
   },
   "outputs": [
    {
     "name": "stdout",
     "output_type": "stream",
     "text": [
      "Populating the interactive namespace from numpy and matplotlib\n"
     ]
    },
    {
     "name": "stderr",
     "output_type": "stream",
     "text": [
      "WARNING: pylab import has clobbered these variables: ['linalg', 'draw_if_interactive', 'random', 'fft', 'power', 'info']\n",
      "`%matplotlib` prevents importing * from pylab and numpy\n"
     ]
    }
   ],
   "source": [
    "%pylab inline  \n",
    "import GPy\n",
    "import GPyOpt\n",
    "import numpy as np\n",
    "from sklearn import svm\n",
    "from GPy.models import GPRegression\n",
    "from numpy.random import seed\n",
    "np.random.seed(12345)"
   ]
  },
  {
   "cell_type": "markdown",
   "metadata": {
    "collapsed": true
   },
   "source": [
    "As we did for the scikit-learn SVR example we use the Olympic marathon dataset available in GPy and we split the original dataset into the training data (first 20 data points) and testing data (last 7 data points). "
   ]
  },
  {
   "cell_type": "code",
   "execution_count": 2,
   "metadata": {
    "collapsed": false
   },
   "outputs": [],
   "source": [
    "# Let's load the dataset\n",
    "GPy.util.datasets.authorize_download = lambda x: True\n",
    "data = GPy.util.datasets.olympic_marathon_men()\n",
    "X = data['X']\n",
    "Y = data['Y']\n",
    "X_train = X[:20]\n",
    "Y_train = Y[:20]\n",
    "X_test = X[20:]\n",
    "Y_test = Y[20:]"
   ]
  },
  {
   "cell_type": "markdown",
   "metadata": {},
   "source": [
    "Let's first create a GPy model. We add some arbitraty numbers to the parameters of the kernel."
   ]
  },
  {
   "cell_type": "code",
   "execution_count": 3,
   "metadata": {
    "collapsed": false
   },
   "outputs": [
    {
     "name": "stdout",
     "output_type": "stream",
     "text": [
      "\n",
      "Name : GP regression\n",
      "Objective : 38.8853678618\n",
      "Number of Parameters : 5\n",
      "Number of Optimization Parameters : 5\n",
      "Updates : True\n",
      "Parameters:\n",
      "  \u001b[1mGP_regression.         \u001b[0;0m  |  value  |  constraints  |  priors\n",
      "  \u001b[1msum.Mat32.variance     \u001b[0;0m  |    2.0  |      +ve      |        \n",
      "  \u001b[1msum.Mat32.lengthscale  \u001b[0;0m  |    1.0  |      +ve      |        \n",
      "  \u001b[1msum.linear.variances   \u001b[0;0m  |    1.0  |      +ve      |        \n",
      "  \u001b[1msum.bias.variance      \u001b[0;0m  |    5.0  |      +ve      |        \n",
      "  \u001b[1mGaussian_noise.variance\u001b[0;0m  |    1.0  |      +ve      |        \n"
     ]
    }
   ],
   "source": [
    "k =  GPy.kern.Matern32(1, variance=2, lengthscale=1)\\\n",
    "   + GPy.kern.Linear(1, variances=1)\\\n",
    "   + GPy.kern.Bias(1, variance=5)\n",
    "\n",
    "m = GPRegression(X_train, Y_train, kernel=k,\n",
    "                 normalizer=True)\n",
    "print m"
   ]
  },
  {
   "cell_type": "markdown",
   "metadata": {},
   "source": [
    "Now we plot hor the model looks for the training and testing data."
   ]
  },
  {
   "cell_type": "code",
   "execution_count": 4,
   "metadata": {
    "collapsed": false
   },
   "outputs": [
    {
     "data": {
      "text/plain": [
       "<matplotlib.legend.Legend at 0x7f2e40807cd0>"
      ]
     },
     "execution_count": 4,
     "metadata": {},
     "output_type": "execute_result"
    },
    {
     "data": {
      "image/png": "[encoded data removed]",
      "text/plain": [
       "<matplotlib.figure.Figure at 0x7f2e4846bf50>"
      ]
     },
     "metadata": {},
     "output_type": "display_data"
    }
   ],
   "source": [
    "Y_train_pred, Y_train_pred_var = m.predict(X_train)\n",
    "Y_test_pred, Y_test_pred_var = m.predict(X_test)\n",
    "\n",
    "plot(X_train,Y_train_pred,'b',label='pred-train')\n",
    "plot(X_test,Y_test_pred,'g',label='pred-test')\n",
    "\n",
    "plot(X_train,Y_train,'rx',label='ground truth')\n",
    "plot(X_test,Y_test,'rx')\n",
    "legend(loc='best')"
   ]
  },
  {
   "cell_type": "markdown",
   "metadata": {},
   "source": [
    "Not very good, as we expected. Now let's optimise the model parameters. We will do that using the default optimiser and by using Bayesian optmization. We start with this latest option. We first have a look to the parameters we need to tune and we create the domain where the optimisation is going to be carried out."
   ]
  },
  {
   "cell_type": "code",
   "execution_count": 5,
   "metadata": {
    "collapsed": false
   },
   "outputs": [
    {
     "data": {
      "text/plain": [
       "['sum.Mat32.variance',\n",
       " 'sum.Mat32.lengthscale',\n",
       " 'sum.linear.variances',\n",
       " 'sum.bias.variance',\n",
       " 'Gaussian_noise.variance']"
      ]
     },
     "execution_count": 5,
     "metadata": {},
     "output_type": "execute_result"
    }
   ],
   "source": [
    "# Model parameters\n",
    "m.parameter_names()"
   ]
  },
  {
   "cell_type": "code",
   "execution_count": 6,
   "metadata": {
    "collapsed": false
   },
   "outputs": [],
   "source": [
    "# List containing the description of the domain where we will perform the optmisation\n",
    "domain = [\n",
    "{'name': 'Mat32.variance',          'type': 'continuous', 'domain': (1,4.)},\n",
    "{'name': 'Mat32.lengthscale',       'type': 'continuous', 'domain': (50.,150.)},\n",
    "{'name': 'Linear.variances',        'type': 'continuous', 'domain': (1e-5,6)},\n",
    "{'name': 'Bias.variance',           'type': 'continuous', 'domain': (1e-5,6)},\n",
    "{'name': 'Gaussian_noise.variance', 'type': 'continuous', 'domain': (1e-5,4.)}\n",
    "]"
   ]
  },
  {
   "cell_type": "markdown",
   "metadata": {},
   "source": [
    "We will minimize the minus marinal log-likelihood. We wrapp it to create our objetive function."
   ]
  },
  {
   "cell_type": "code",
   "execution_count": 7,
   "metadata": {
    "collapsed": true
   },
   "outputs": [],
   "source": [
    "def f_lik(x):\n",
    "    m[:] = x\n",
    "    return m.objective_function()"
   ]
  },
  {
   "cell_type": "markdown",
   "metadata": {},
   "source": [
    "Now create the GPyOpt object and run the optimization procedure. We will use the expected improvement integrated over the GP hyperparameters (so the black hole created is not so dangerous). "
   ]
  },
  {
   "cell_type": "code",
   "execution_count": 8,
   "metadata": {
    "collapsed": false
   },
   "outputs": [],
   "source": [
    "opt = GPyOpt.methods.BayesianOptimization(f = f_lik,                  \n",
    "                                          domain = domain,\n",
    "                                          normalize_Y= True,\n",
    "                                          exact_feval = True,\n",
    "                                          model_type= 'GP',\n",
    "                                          acquisition_type ='EI',       \n",
    "                                          acquisition_jitter = 0.25)   "
   ]
  },
  {
   "cell_type": "markdown",
   "metadata": {},
   "source": [
    "And we run the optimization for 50 iterations."
   ]
  },
  {
   "cell_type": "code",
   "execution_count": 9,
   "metadata": {
    "collapsed": false,
    "scrolled": true
   },
   "outputs": [
    {
     "data": {
      "image/png": "[encoded data removed]",
      "text/plain": [
       "<matplotlib.figure.Figure at 0x7f2e408ae110>"
      ]
     },
     "metadata": {},
     "output_type": "display_data"
    }
   ],
   "source": [
    "# it may take a few seconds\n",
    "opt.run_optimization(max_iter=100)\n",
    "opt.plot_convergence()"
   ]
  },
  {
   "cell_type": "markdown",
   "metadata": {},
   "source": [
    "Let's show the best parameters found. They differ significantly from the default parameters."
   ]
  },
  {
   "cell_type": "code",
   "execution_count": 10,
   "metadata": {
    "collapsed": false
   },
   "outputs": [
    {
     "name": "stdout",
     "output_type": "stream",
     "text": [
      "The best model optimized with GPyOpt:\n",
      "\n",
      "Name : GP regression\n",
      "Objective : 17.9267046505\n",
      "Number of Parameters : 5\n",
      "Number of Optimization Parameters : 5\n",
      "Updates : True\n",
      "Parameters:\n",
      "  \u001b[1mGP_regression.         \u001b[0;0m  |           value  |  constraints  |  priors\n",
      "  \u001b[1msum.Mat32.variance     \u001b[0;0m  |             1.0  |      +ve      |        \n",
      "  \u001b[1msum.Mat32.lengthscale  \u001b[0;0m  |   120.647374996  |      +ve      |        \n",
      "  \u001b[1msum.linear.variances   \u001b[0;0m  |           1e-05  |      +ve      |        \n",
      "  \u001b[1msum.bias.variance      \u001b[0;0m  |             6.0  |      +ve      |        \n",
      "  \u001b[1mGaussian_noise.variance\u001b[0;0m  |  0.455483640412  |      +ve      |        \n"
     ]
    }
   ],
   "source": [
    "x_best = opt.X[np.argmin(opt.Y)].copy()\n",
    "m[:] = x_best\n",
    "print(\"The best model optimized with GPyOpt:\")\n",
    "print m"
   ]
  },
  {
   "cell_type": "markdown",
   "metadata": {},
   "source": [
    "And we print the model for the training and testing datasets."
   ]
  },
  {
   "cell_type": "code",
   "execution_count": 11,
   "metadata": {
    "collapsed": false
   },
   "outputs": [
    {
     "data": {
      "text/plain": [
       "<matplotlib.legend.Legend at 0x7f2e34fafd10>"
      ]
     },
     "execution_count": 11,
     "metadata": {},
     "output_type": "execute_result"
    },
    {
     "data": {
      "image/png": "[encoded data removed]",
      "text/plain": [
       "<matplotlib.figure.Figure at 0x7f2e3c02bdd0>"
      ]
     },
     "metadata": {},
     "output_type": "display_data"
    }
   ],
   "source": [
    "Y_train_pred, Y_train_pred_var = m.predict(X_train)\n",
    "Y_test_pred, Y_test_pred_var = m.predict(X_test)\n",
    "\n",
    "plot(X_train,Y_train_pred,'b',label='pred-train')\n",
    "plot(X_test,Y_test_pred,'g',label='pred-test')\n",
    "\n",
    "plot(X_train,Y_train,'rx',label='ground truth')\n",
    "plot(X_test,Y_test,'rx')\n",
    "legend(loc='best')"
   ]
  },
  {
   "cell_type": "markdown",
   "metadata": {},
   "source": [
    "Now we optimize the model using the default GPy optimizer. To do this we first restrict the search of the parameters the same way we did for the Bayesian optimisation case."
   ]
  },
  {
   "cell_type": "code",
   "execution_count": 12,
   "metadata": {
    "collapsed": false
   },
   "outputs": [
    {
     "name": "stdout",
     "output_type": "stream",
     "text": [
      "WARNING: reconstraining parameters GP_regression.sum.Mat32.variance\n",
      "WARNING: reconstraining parameters GP_regression.sum.Mat32.lengthscale\n",
      "WARNING: reconstraining parameters GP_regression.sum.linear.variances\n",
      "WARNING: reconstraining parameters GP_regression.sum.bias.variance\n",
      "WARNING: reconstraining parameters GP_regression.Gaussian_noise.variance\n"
     ]
    }
   ],
   "source": [
    "m[:] = opt.X[0].copy()\n",
    "\n",
    "m.kern.Mat32.variance.constrain_bounded(1,4.)\n",
    "m.kern.Mat32.lengthscale.constrain_bounded(50,150.)\n",
    "m.kern.linear.variances.constrain_bounded(1e-5,6)\n",
    "m.kern.bias.variance.constrain_bounded(1e-5,6)\n",
    "m.Gaussian_noise.variance.constrain_bounded(1e-5,4.)"
   ]
  },
  {
   "cell_type": "code",
   "execution_count": 13,
   "metadata": {
    "collapsed": false
   },
   "outputs": [
    {
     "data": {
      "text/html": [
       "<style type=\"text/css\">\n",
       ".tg  {font-family:\"Courier New\", Courier, monospace !important;padding:2px 3px;word-break:normal;border-collapse:collapse;border-spacing:0;border-color:#DCDCDC;margin:0px auto;width:100%;}\n",
       ".tg td{font-family:\"Courier New\", Courier, monospace !important;font-weight:bold;color:#444;background-color:#F7FDFA;border-style:solid;border-width:1px;overflow:hidden;word-break:normal;border-color:#DCDCDC;}\n",
       ".tg th{font-family:\"Courier New\", Courier, monospace !important;font-weight:normal;color:#fff;background-color:#26ADE4;border-style:solid;border-width:1px;overflow:hidden;word-break:normal;border-color:#DCDCDC;}\n",
       ".tg .tg-left{font-family:\"Courier New\", Courier, monospace !important;font-weight:normal;text-align:left;}\n",
       ".tg .tg-center{font-family:\"Courier New\", Courier, monospace !important;font-weight:normal;text-align:center;}\n",
       ".tg .tg-right{font-family:\"Courier New\", Courier, monospace !important;font-weight:normal;text-align:right;}\n",
       "</style>\n",
       "<table class=\"tg\"><tr><th><b>  sum.             </b></th><th><b>        value</b></th><th><b>constraints</b></th><th><b>priors</b></th></tr>\n",
       "<tr><td class=tg-left>  Mat32.variance   </td><td class=tg-right>3.78884827845</td><td class=tg-center>  1.0,4.0  </td><td class=tg-center>      </td></tr>\n",
       "<tr><td class=tg-left>  Mat32.lengthscale</td><td class=tg-right>109.554470298</td><td class=tg-center>50.0,150.0 </td><td class=tg-center>      </td></tr>\n",
       "<tr><td class=tg-left>  linear.variances </td><td class=tg-right>4.48629137848</td><td class=tg-center> 1e-05,6.0 </td><td class=tg-center>      </td></tr>\n",
       "<tr><td class=tg-left>  bias.variance    </td><td class=tg-right>3.93847053438</td><td class=tg-center> 1e-05,6.0 </td><td class=tg-center>      </td></tr>\n",
       "</table>"
      ],
      "text/plain": [
       "<GPy.kern.src.add.Add at 0x7f2e408c0450>"
      ]
     },
     "execution_count": 13,
     "metadata": {},
     "output_type": "execute_result"
    }
   ],
   "source": [
    "m.kern"
   ]
  },
  {
   "cell_type": "code",
   "execution_count": 14,
   "metadata": {
    "collapsed": true
   },
   "outputs": [],
   "source": [
    "m.optimize()"
   ]
  },
  {
   "cell_type": "code",
   "execution_count": 15,
   "metadata": {
    "collapsed": false
   },
   "outputs": [
    {
     "data": {
      "text/plain": [
       "<matplotlib.legend.Legend at 0x7f2e34e9b750>"
      ]
     },
     "execution_count": 15,
     "metadata": {},
     "output_type": "execute_result"
    },
    {
     "data": {
      "image/png": "[encoded data removed]",
      "text/plain": [
       "<matplotlib.figure.Figure at 0x7f2e3c0b5190>"
      ]
     },
     "metadata": {},
     "output_type": "display_data"
    }
   ],
   "source": [
    "Y_train_pred, Y_train_pred_var = m.predict(X_train)\n",
    "Y_test_pred, Y_test_pred_var = m.predict(X_test)\n",
    "\n",
    "plot(X_train,Y_train_pred,'b',label='pred-train')\n",
    "plot(X_test,Y_test_pred,'g',label='pred-test')\n",
    "\n",
    "plot(X_train,Y_train,'rx',label='ground truth')\n",
    "plot(X_test,Y_test,'rx')\n",
    "legend(loc='best')"
   ]
  },
  {
   "cell_type": "code",
   "execution_count": 16,
   "metadata": {
    "collapsed": false
   },
   "outputs": [
    {
     "name": "stdout",
     "output_type": "stream",
     "text": [
      "The best model optimized with the default optimizer:\n",
      "\n",
      "Name : GP regression\n",
      "Objective : 8.41226873402\n",
      "Number of Parameters : 5\n",
      "Number of Optimization Parameters : 5\n",
      "Updates : True\n",
      "Parameters:\n",
      "  \u001b[1mGP_regression.         \u001b[0;0m  |              value  |  constraints  |  priors\n",
      "  \u001b[1msum.Mat32.variance     \u001b[0;0m  |      3.34248386835  |    1.0,4.0    |        \n",
      "  \u001b[1msum.Mat32.lengthscale  \u001b[0;0m  |              150.0  |  50.0,150.0   |        \n",
      "  \u001b[1msum.linear.variances   \u001b[0;0m  |              1e-05  |   1e-05,6.0   |        \n",
      "  \u001b[1msum.bias.variance      \u001b[0;0m  |  1.17204023942e-05  |   1e-05,6.0   |        \n",
      "  \u001b[1mGaussian_noise.variance\u001b[0;0m  |     0.061131817332  |   1e-05,4.0   |        \n"
     ]
    }
   ],
   "source": [
    "print(\"The best model optimized with the default optimizer:\")\n",
    "print m"
   ]
  }
 ],
 "metadata": {
  "kernelspec": {
   "display_name": "Python [python2test]",
   "language": "python",
   "name": "Python [python2test]"
  },
  "language_info": {
   "codemirror_mode": {
    "name": "ipython",
    "version": 2
   },
   "file_extension": ".py",
   "mimetype": "text/x-python",
   "name": "python",
   "nbconvert_exporter": "python",
   "pygments_lexer": "ipython2",
   "version": "2.7.11"
  }
 },
 "nbformat": 4,
 "nbformat_minor": 0
}
