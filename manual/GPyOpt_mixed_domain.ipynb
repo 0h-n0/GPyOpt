{
 "cells": [
  {
   "cell_type": "markdown",
   "metadata": {},
   "source": [
    "# GPyOpt: mixing different types of variables\n",
    "\n",
    "### Written by Javier Gonzalez, University of Sheffield.\n",
    "\n",
    "\n",
    "*Last updated Monday, 14 March 2016.*"
   ]
  },
  {
   "cell_type": "markdown",
   "metadata": {},
   "source": [
    "In this notebook we are going to see how to used GPyOpt to solve optimizaiton problems in which the domain of the fucntion is defined in terms of a variety of continous and discrete variables. To this end we start by loading GPyOpt. "
   ]
  },
  {
   "cell_type": "code",
   "execution_count": 1,
   "metadata": {
    "collapsed": false
   },
   "outputs": [
    {
     "name": "stdout",
     "output_type": "stream",
     "text": [
      "Populating the interactive namespace from numpy and matplotlib\n"
     ]
    }
   ],
   "source": [
    "%pylab inline  \n",
    "import GPyOpt\n",
    "from numpy.random import seed\n",
    "seed(123)"
   ]
  },
  {
   "cell_type": "markdown",
   "metadata": {},
   "source": [
    "We will use the **Alpine1** function, that it is available in the benchmark of functions of the package. This function is defined for arbitrary dimension. In this example we will work in dimension 5. The functional form of the Alpine1 function is:\n",
    "\n",
    "$$f(x_1,x_2,x_3,x_4,x_5)=\\sum_{i=1}^{5} \\lvert {x_i \\sin \\left( x_i \\right) + 0.1 x_i} \\rvert$$"
   ]
  },
  {
   "cell_type": "markdown",
   "metadata": {},
   "source": [
    "We load the function from GPyOpt, assuming that noisy free values will be sampled."
   ]
  },
  {
   "cell_type": "code",
   "execution_count": 2,
   "metadata": {
    "collapsed": true
   },
   "outputs": [],
   "source": [
    "func  = GPyOpt.objective_examples.experimentsNd.alpine1(input_dim=5) "
   ]
  },
  {
   "cell_type": "markdown",
   "metadata": {},
   "source": [
    "We will consider that variables $x_1$ and $x_2$ are continuous and defined in the interval $[-5,5]$, variable $x_3$ is takes continuous values in the interval $[-1,5]$ and the variables $x_4$ and $x_5$ are discrete and take values $\\{-3,0,3\\}$ and $\\{-5,-1,1,5\\}$ respectively. Next we define this domain to use it in GPyOpt."
   ]
  },
  {
   "cell_type": "code",
   "execution_count": 3,
   "metadata": {
    "collapsed": false
   },
   "outputs": [],
   "source": [
    "mixed_domain =[{'name': 'var1_2', 'type': 'continuous', 'domain': (-10,10),'dimensionality': 2},\n",
    "               {'name': 'var3', 'type': 'continuous', 'domain': (-8,3)},\n",
    "               {'name': 'var4', 'type': 'discrete', 'domain': (-2,0,2)},\n",
    "               {'name': 'var5', 'type': 'discrete', 'domain': (-1,5)}]\n",
    "\n",
    "dd = GPyOpt.Design_space(mixed_domain)\n",
    "\n"
   ]
  },
  {
   "cell_type": "markdown",
   "metadata": {},
   "source": [
    "And that's it! We can proceed now with the optimization as we have seen in previous examples. We just need to select, the model, acquisition, optimizer, etc. Given the previous domain, GPyOpt will handle for use the fact that we have discrete variables. This is taken into account in the optimization but also when generating initial values, etc. Let's see how it works when we use the Expected improvement."
   ]
  },
  {
   "cell_type": "code",
   "execution_count": 4,
   "metadata": {
    "collapsed": false
   },
   "outputs": [
    {
     "name": "stdout",
     "output_type": "stream",
     "text": [
      "** GPyOpt Bayesian Optimization class initialized succesfuly **\n"
     ]
    }
   ],
   "source": [
    "myBopt = GPyOpt.methods.BayesianOptimization(f=func.f,                   # function to optimize       \n",
    "                                             domain=mixed_domain,        # box-constrains of the problem\n",
    "                                             initial_design_numdata = 20,# number data initial design\n",
    "                                             acquisition_type='EI',      # Expected Improvement\n",
    "                                             exact_feval = True)         # True evaluations"
   ]
  },
  {
   "cell_type": "markdown",
   "metadata": {},
   "source": [
    "Now, we run the optimization for 20 iterations or a maximum of 60 seconds and we show the convergence plots."
   ]
  },
  {
   "cell_type": "code",
   "execution_count": 5,
   "metadata": {
    "collapsed": false,
    "scrolled": true
   },
   "outputs": [
    {
     "name": "stdout",
     "output_type": "stream",
     "text": [
      "   ** Maximum number of iterations reached **\n"
     ]
    }
   ],
   "source": [
    "max_iter = 10\n",
    "max_time = 60\n",
    "\n",
    "myBopt.run_optimization(max_iter, max_time)"
   ]
  },
  {
   "cell_type": "code",
   "execution_count": 6,
   "metadata": {
    "collapsed": false,
    "scrolled": true
   },
   "outputs": [
    {
     "data": {
      "text/plain": [
       "array([[ 3.92938371,  2.68801917, -1.13651753,  0.        , -1.        ],\n",
       "       [-4.2772133 ,  6.98863588, -6.72819765,  0.        ,  5.        ],\n",
       "       [-5.46297093,  4.4891065 , -4.5098597 , -2.        ,  5.        ],\n",
       "       [ 1.02629538,  2.22047021, -3.43691167,  2.        ,  5.        ],\n",
       "       [ 4.3893794 ,  4.44886765,  1.52940074,  2.        ,  5.        ],\n",
       "       [-1.5378708 , -3.54082172, -5.24499098,  0.        ,  5.        ],\n",
       "       [ 9.61528397, -2.76422689, -2.68662309,  2.        , -1.        ],\n",
       "       [ 3.69659477, -5.43473538,  2.84115764,  2.        , -1.        ],\n",
       "       [-0.38136197, -4.12571907, -2.28566369, -2.        ,  5.        ],\n",
       "       [-2.15764964,  2.61952248, -1.25816022,  2.        ,  5.        ],\n",
       "       [-3.13643968, -8.1579012 , -6.67308467, -2.        ,  5.        ],\n",
       "       [ 4.58099415, -1.32597655,  1.08974881, -2.        , -1.        ],\n",
       "       [-1.22855511, -1.38274473, -1.36633859,  0.        ,  5.        ],\n",
       "       [-8.80644207, -0.12629805, -2.00425193,  2.        , -1.        ],\n",
       "       [-2.03911489, -1.48339419, -4.22959783,  0.        , -1.        ],\n",
       "       [ 4.75990811, -3.75477554, -4.65467132,  0.        , -1.        ],\n",
       "       [-6.35016539, -1.47297386, -3.41275568, -2.        ,  5.        ],\n",
       "       [-6.49096488,  7.86778326, -0.50569158,  0.        ,  5.        ],\n",
       "       [ 0.63102748,  8.88320036,  1.63002526,  0.        ,  5.        ],\n",
       "       [ 0.63655174,  0.03673352, -2.38535429,  2.        , -1.        ],\n",
       "       [-5.49914294,  4.1816879 , -4.6689309 , -2.        ,  5.        ],\n",
       "       [-6.0066194 ,  4.52002658, -4.41099068, -2.        ,  5.        ],\n",
       "       [-4.96887006,  4.33988646, -4.24636711, -2.        ,  5.        ],\n",
       "       [-4.96480778,  4.66618668, -4.81984911, -2.        ,  5.        ],\n",
       "       [-4.4037165 ,  4.42618167, -5.36098052, -2.        ,  5.        ],\n",
       "       [-4.79577824,  5.1627033 , -4.81386266, -2.        ,  5.        ],\n",
       "       [ 4.44115802, -4.93867966, -7.71897681, -2.        , -1.        ],\n",
       "       [-2.07231908,  0.40325066, -8.        , -2.        ,  5.        ],\n",
       "       [ 2.73673036, -5.21316789, -4.89381716,  2.        ,  5.        ],\n",
       "       [ 5.11443329, -8.42278103, -3.08377615,  2.        ,  5.        ]])"
      ]
     },
     "execution_count": 6,
     "metadata": {},
     "output_type": "execute_result"
    }
   ],
   "source": [
    "myBopt.X"
   ]
  },
  {
   "cell_type": "code",
   "execution_count": 7,
   "metadata": {
    "collapsed": false
   },
   "outputs": [
    {
     "data": {
      "text/plain": [
       "[{'dimensionality': 2,\n",
       "  'domain': (-10, 10),\n",
       "  'name': 'var1_2',\n",
       "  'type': 'continuous'},\n",
       " {'domain': (-8, 3), 'name': 'var3', 'type': 'continuous'},\n",
       " {'domain': (-2, 0, 2), 'name': 'var4', 'type': 'discrete'},\n",
       " {'domain': (-1, 5), 'name': 'var5', 'type': 'discrete'}]"
      ]
     },
     "execution_count": 7,
     "metadata": {},
     "output_type": "execute_result"
    }
   ],
   "source": [
    "mixed_domain"
   ]
  },
  {
   "cell_type": "code",
   "execution_count": 9,
   "metadata": {
    "collapsed": false
   },
   "outputs": [
    {
     "data": {
      "image/png": "[encoded data removed]",
      "text/plain": [
       "<matplotlib.figure.Figure at 0x11070ca50>"
      ]
     },
     "metadata": {},
     "output_type": "display_data"
    }
   ],
   "source": [
    "myBopt.plot_convergence()"
   ]
  },
  {
   "cell_type": "markdown",
   "metadata": {},
   "source": [
    "The current best found value is:"
   ]
  },
  {
   "cell_type": "code",
   "execution_count": 10,
   "metadata": {
    "collapsed": false
   },
   "outputs": [
    {
     "data": {
      "text/plain": [
       "array([-4.96480778,  4.66618668, -4.81984911, -2.        ,  5.        ])"
      ]
     },
     "execution_count": 10,
     "metadata": {},
     "output_type": "execute_result"
    }
   ],
   "source": [
    "myBopt.x_opt"
   ]
  },
  {
   "cell_type": "code",
   "execution_count": null,
   "metadata": {
    "collapsed": true
   },
   "outputs": [],
   "source": []
  },
  {
   "cell_type": "code",
   "execution_count": null,
   "metadata": {
    "collapsed": true
   },
   "outputs": [],
   "source": []
  },
  {
   "cell_type": "code",
   "execution_count": null,
   "metadata": {
    "collapsed": true
   },
   "outputs": [],
   "source": []
  },
  {
   "cell_type": "code",
   "execution_count": null,
   "metadata": {
    "collapsed": true
   },
   "outputs": [],
   "source": []
  }
 ],
 "metadata": {
  "kernelspec": {
   "display_name": "Python 2",
   "language": "python",
   "name": "python2"
  },
  "language_info": {
   "codemirror_mode": {
    "name": "ipython",
    "version": 2
   },
   "file_extension": ".py",
   "mimetype": "text/x-python",
   "name": "python",
   "nbconvert_exporter": "python",
   "pygments_lexer": "ipython2",
   "version": "2.7.11"
  }
 },
 "nbformat": 4,
 "nbformat_minor": 0
}
